{
  "cells": [
    {
      "cell_type": "markdown",
      "source": [
        "#Exploratory Data Analysis"
      ],
      "metadata": {
        "id": "Fr6cUEwnzjjx"
      }
    },
    {
      "cell_type": "markdown",
      "source": [
        "Import necessary libraries such as pandas, numpy and matplot to read csv file and plot results"
      ],
      "metadata": {
        "id": "K4FRfJ7yzFaF"
      }
    },
    {
      "cell_type": "code",
      "execution_count": null,
      "metadata": {
        "id": "WVgm81rm83Ic"
      },
      "outputs": [],
      "source": [
        "import pandas as pd\n",
        "import numpy as np\n",
        "import matplotlib.pyplot as plt"
      ]
    },
    {
      "cell_type": "markdown",
      "source": [
        "Read Fraud.csv file"
      ],
      "metadata": {
        "id": "kSe7Wz3mzs2W"
      }
    },
    {
      "cell_type": "code",
      "execution_count": null,
      "metadata": {
        "id": "Od6LPAn0G127",
        "colab": {
          "base_uri": "https://localhost:8080/",
          "height": 363
        },
        "outputId": "c91e616f-54be-47aa-d985-34265730d2b7"
      },
      "outputs": [
        {
          "output_type": "execute_result",
          "data": {
            "text/html": [
              "\n",
              "  <div id=\"df-0cdfa429-0929-48f4-811b-bd04b9bd7a1d\">\n",
              "    <div class=\"colab-df-container\">\n",
              "      <div>\n",
              "<style scoped>\n",
              "    .dataframe tbody tr th:only-of-type {\n",
              "        vertical-align: middle;\n",
              "    }\n",
              "\n",
              "    .dataframe tbody tr th {\n",
              "        vertical-align: top;\n",
              "    }\n",
              "\n",
              "    .dataframe thead th {\n",
              "        text-align: right;\n",
              "    }\n",
              "</style>\n",
              "<table border=\"1\" class=\"dataframe\">\n",
              "  <thead>\n",
              "    <tr style=\"text-align: right;\">\n",
              "      <th></th>\n",
              "      <th>step</th>\n",
              "      <th>type</th>\n",
              "      <th>amount</th>\n",
              "      <th>nameOrig</th>\n",
              "      <th>oldbalanceOrg</th>\n",
              "      <th>newbalanceOrig</th>\n",
              "      <th>nameDest</th>\n",
              "      <th>oldbalanceDest</th>\n",
              "      <th>newbalanceDest</th>\n",
              "      <th>isFraud</th>\n",
              "      <th>isFlaggedFraud</th>\n",
              "    </tr>\n",
              "  </thead>\n",
              "  <tbody>\n",
              "    <tr>\n",
              "      <th>0</th>\n",
              "      <td>1</td>\n",
              "      <td>PAYMENT</td>\n",
              "      <td>9839.64</td>\n",
              "      <td>C1231006815</td>\n",
              "      <td>170136.00</td>\n",
              "      <td>160296.36</td>\n",
              "      <td>M1979787155</td>\n",
              "      <td>0.0</td>\n",
              "      <td>0.00</td>\n",
              "      <td>0.0</td>\n",
              "      <td>0.0</td>\n",
              "    </tr>\n",
              "    <tr>\n",
              "      <th>1</th>\n",
              "      <td>1</td>\n",
              "      <td>PAYMENT</td>\n",
              "      <td>1864.28</td>\n",
              "      <td>C1666544295</td>\n",
              "      <td>21249.00</td>\n",
              "      <td>19384.72</td>\n",
              "      <td>M2044282225</td>\n",
              "      <td>0.0</td>\n",
              "      <td>0.00</td>\n",
              "      <td>0.0</td>\n",
              "      <td>0.0</td>\n",
              "    </tr>\n",
              "    <tr>\n",
              "      <th>2</th>\n",
              "      <td>1</td>\n",
              "      <td>TRANSFER</td>\n",
              "      <td>181.00</td>\n",
              "      <td>C1305486145</td>\n",
              "      <td>181.00</td>\n",
              "      <td>0.00</td>\n",
              "      <td>C553264065</td>\n",
              "      <td>0.0</td>\n",
              "      <td>0.00</td>\n",
              "      <td>1.0</td>\n",
              "      <td>0.0</td>\n",
              "    </tr>\n",
              "    <tr>\n",
              "      <th>3</th>\n",
              "      <td>1</td>\n",
              "      <td>CASH_OUT</td>\n",
              "      <td>181.00</td>\n",
              "      <td>C840083671</td>\n",
              "      <td>181.00</td>\n",
              "      <td>0.00</td>\n",
              "      <td>C38997010</td>\n",
              "      <td>21182.0</td>\n",
              "      <td>0.00</td>\n",
              "      <td>1.0</td>\n",
              "      <td>0.0</td>\n",
              "    </tr>\n",
              "    <tr>\n",
              "      <th>4</th>\n",
              "      <td>1</td>\n",
              "      <td>PAYMENT</td>\n",
              "      <td>11668.14</td>\n",
              "      <td>C2048537720</td>\n",
              "      <td>41554.00</td>\n",
              "      <td>29885.86</td>\n",
              "      <td>M1230701703</td>\n",
              "      <td>0.0</td>\n",
              "      <td>0.00</td>\n",
              "      <td>0.0</td>\n",
              "      <td>0.0</td>\n",
              "    </tr>\n",
              "    <tr>\n",
              "      <th>5</th>\n",
              "      <td>1</td>\n",
              "      <td>PAYMENT</td>\n",
              "      <td>7817.71</td>\n",
              "      <td>C90045638</td>\n",
              "      <td>53860.00</td>\n",
              "      <td>46042.29</td>\n",
              "      <td>M573487274</td>\n",
              "      <td>0.0</td>\n",
              "      <td>0.00</td>\n",
              "      <td>0.0</td>\n",
              "      <td>0.0</td>\n",
              "    </tr>\n",
              "    <tr>\n",
              "      <th>6</th>\n",
              "      <td>1</td>\n",
              "      <td>PAYMENT</td>\n",
              "      <td>7107.77</td>\n",
              "      <td>C154988899</td>\n",
              "      <td>183195.00</td>\n",
              "      <td>176087.23</td>\n",
              "      <td>M408069119</td>\n",
              "      <td>0.0</td>\n",
              "      <td>0.00</td>\n",
              "      <td>0.0</td>\n",
              "      <td>0.0</td>\n",
              "    </tr>\n",
              "    <tr>\n",
              "      <th>7</th>\n",
              "      <td>1</td>\n",
              "      <td>PAYMENT</td>\n",
              "      <td>7861.64</td>\n",
              "      <td>C1912850431</td>\n",
              "      <td>176087.23</td>\n",
              "      <td>168225.59</td>\n",
              "      <td>M633326333</td>\n",
              "      <td>0.0</td>\n",
              "      <td>0.00</td>\n",
              "      <td>0.0</td>\n",
              "      <td>0.0</td>\n",
              "    </tr>\n",
              "    <tr>\n",
              "      <th>8</th>\n",
              "      <td>1</td>\n",
              "      <td>PAYMENT</td>\n",
              "      <td>4024.36</td>\n",
              "      <td>C1265012928</td>\n",
              "      <td>2671.00</td>\n",
              "      <td>0.00</td>\n",
              "      <td>M1176932104</td>\n",
              "      <td>0.0</td>\n",
              "      <td>0.00</td>\n",
              "      <td>0.0</td>\n",
              "      <td>0.0</td>\n",
              "    </tr>\n",
              "    <tr>\n",
              "      <th>9</th>\n",
              "      <td>1</td>\n",
              "      <td>DEBIT</td>\n",
              "      <td>5337.77</td>\n",
              "      <td>C712410124</td>\n",
              "      <td>41720.00</td>\n",
              "      <td>36382.23</td>\n",
              "      <td>C195600860</td>\n",
              "      <td>41898.0</td>\n",
              "      <td>40348.79</td>\n",
              "      <td>0.0</td>\n",
              "      <td>0.0</td>\n",
              "    </tr>\n",
              "  </tbody>\n",
              "</table>\n",
              "</div>\n",
              "      <button class=\"colab-df-convert\" onclick=\"convertToInteractive('df-0cdfa429-0929-48f4-811b-bd04b9bd7a1d')\"\n",
              "              title=\"Convert this dataframe to an interactive table.\"\n",
              "              style=\"display:none;\">\n",
              "        \n",
              "  <svg xmlns=\"http://www.w3.org/2000/svg\" height=\"24px\"viewBox=\"0 0 24 24\"\n",
              "       width=\"24px\">\n",
              "    <path d=\"M0 0h24v24H0V0z\" fill=\"none\"/>\n",
              "    <path d=\"M18.56 5.44l.94 2.06.94-2.06 2.06-.94-2.06-.94-.94-2.06-.94 2.06-2.06.94zm-11 1L8.5 8.5l.94-2.06 2.06-.94-2.06-.94L8.5 2.5l-.94 2.06-2.06.94zm10 10l.94 2.06.94-2.06 2.06-.94-2.06-.94-.94-2.06-.94 2.06-2.06.94z\"/><path d=\"M17.41 7.96l-1.37-1.37c-.4-.4-.92-.59-1.43-.59-.52 0-1.04.2-1.43.59L10.3 9.45l-7.72 7.72c-.78.78-.78 2.05 0 2.83L4 21.41c.39.39.9.59 1.41.59.51 0 1.02-.2 1.41-.59l7.78-7.78 2.81-2.81c.8-.78.8-2.07 0-2.86zM5.41 20L4 18.59l7.72-7.72 1.47 1.35L5.41 20z\"/>\n",
              "  </svg>\n",
              "      </button>\n",
              "      \n",
              "  <style>\n",
              "    .colab-df-container {\n",
              "      display:flex;\n",
              "      flex-wrap:wrap;\n",
              "      gap: 12px;\n",
              "    }\n",
              "\n",
              "    .colab-df-convert {\n",
              "      background-color: #E8F0FE;\n",
              "      border: none;\n",
              "      border-radius: 50%;\n",
              "      cursor: pointer;\n",
              "      display: none;\n",
              "      fill: #1967D2;\n",
              "      height: 32px;\n",
              "      padding: 0 0 0 0;\n",
              "      width: 32px;\n",
              "    }\n",
              "\n",
              "    .colab-df-convert:hover {\n",
              "      background-color: #E2EBFA;\n",
              "      box-shadow: 0px 1px 2px rgba(60, 64, 67, 0.3), 0px 1px 3px 1px rgba(60, 64, 67, 0.15);\n",
              "      fill: #174EA6;\n",
              "    }\n",
              "\n",
              "    [theme=dark] .colab-df-convert {\n",
              "      background-color: #3B4455;\n",
              "      fill: #D2E3FC;\n",
              "    }\n",
              "\n",
              "    [theme=dark] .colab-df-convert:hover {\n",
              "      background-color: #434B5C;\n",
              "      box-shadow: 0px 1px 3px 1px rgba(0, 0, 0, 0.15);\n",
              "      filter: drop-shadow(0px 1px 2px rgba(0, 0, 0, 0.3));\n",
              "      fill: #FFFFFF;\n",
              "    }\n",
              "  </style>\n",
              "\n",
              "      <script>\n",
              "        const buttonEl =\n",
              "          document.querySelector('#df-0cdfa429-0929-48f4-811b-bd04b9bd7a1d button.colab-df-convert');\n",
              "        buttonEl.style.display =\n",
              "          google.colab.kernel.accessAllowed ? 'block' : 'none';\n",
              "\n",
              "        async function convertToInteractive(key) {\n",
              "          const element = document.querySelector('#df-0cdfa429-0929-48f4-811b-bd04b9bd7a1d');\n",
              "          const dataTable =\n",
              "            await google.colab.kernel.invokeFunction('convertToInteractive',\n",
              "                                                     [key], {});\n",
              "          if (!dataTable) return;\n",
              "\n",
              "          const docLinkHtml = 'Like what you see? Visit the ' +\n",
              "            '<a target=\"_blank\" href=https://colab.research.google.com/notebooks/data_table.ipynb>data table notebook</a>'\n",
              "            + ' to learn more about interactive tables.';\n",
              "          element.innerHTML = '';\n",
              "          dataTable['output_type'] = 'display_data';\n",
              "          await google.colab.output.renderOutput(dataTable, element);\n",
              "          const docLink = document.createElement('div');\n",
              "          docLink.innerHTML = docLinkHtml;\n",
              "          element.appendChild(docLink);\n",
              "        }\n",
              "      </script>\n",
              "    </div>\n",
              "  </div>\n",
              "  "
            ],
            "text/plain": [
              "   step      type    amount  ... newbalanceDest  isFraud  isFlaggedFraud\n",
              "0     1   PAYMENT   9839.64  ...           0.00      0.0             0.0\n",
              "1     1   PAYMENT   1864.28  ...           0.00      0.0             0.0\n",
              "2     1  TRANSFER    181.00  ...           0.00      1.0             0.0\n",
              "3     1  CASH_OUT    181.00  ...           0.00      1.0             0.0\n",
              "4     1   PAYMENT  11668.14  ...           0.00      0.0             0.0\n",
              "5     1   PAYMENT   7817.71  ...           0.00      0.0             0.0\n",
              "6     1   PAYMENT   7107.77  ...           0.00      0.0             0.0\n",
              "7     1   PAYMENT   7861.64  ...           0.00      0.0             0.0\n",
              "8     1   PAYMENT   4024.36  ...           0.00      0.0             0.0\n",
              "9     1     DEBIT   5337.77  ...       40348.79      0.0             0.0\n",
              "\n",
              "[10 rows x 11 columns]"
            ]
          },
          "metadata": {},
          "execution_count": 73
        }
      ],
      "source": [
        "df=pd.read_csv(\"/content/Fraud.csv\")\n",
        "df.head(10)"
      ]
    },
    {
      "cell_type": "markdown",
      "source": [
        "Check for type of variables using info() method"
      ],
      "metadata": {
        "id": "_yaZ1H_Nzxxu"
      }
    },
    {
      "cell_type": "code",
      "source": [
        "#check datatypes present in dataset\n",
        "df.info()"
      ],
      "metadata": {
        "id": "pZFsuU5VQuAl",
        "colab": {
          "base_uri": "https://localhost:8080/"
        },
        "outputId": "3e45586b-e419-4b07-a286-1b4a5822cc57"
      },
      "execution_count": null,
      "outputs": [
        {
          "output_type": "stream",
          "name": "stdout",
          "text": [
            "<class 'pandas.core.frame.DataFrame'>\n",
            "RangeIndex: 2048519 entries, 0 to 2048518\n",
            "Data columns (total 11 columns):\n",
            " #   Column          Dtype  \n",
            "---  ------          -----  \n",
            " 0   step            int64  \n",
            " 1   type            object \n",
            " 2   amount          float64\n",
            " 3   nameOrig        object \n",
            " 4   oldbalanceOrg   float64\n",
            " 5   newbalanceOrig  float64\n",
            " 6   nameDest        object \n",
            " 7   oldbalanceDest  float64\n",
            " 8   newbalanceDest  float64\n",
            " 9   isFraud         float64\n",
            " 10  isFlaggedFraud  float64\n",
            "dtypes: float64(7), int64(1), object(3)\n",
            "memory usage: 171.9+ MB\n"
          ]
        }
      ]
    },
    {
      "cell_type": "markdown",
      "source": [
        "Statistical summary of dataset (mean,standard deviation, quartiles)"
      ],
      "metadata": {
        "id": "vWVUdSYGXHKR"
      }
    },
    {
      "cell_type": "code",
      "source": [
        "# get statistical values\n",
        "df.describe()"
      ],
      "metadata": {
        "id": "sO38x7NkQ6Dv",
        "colab": {
          "base_uri": "https://localhost:8080/",
          "height": 300
        },
        "outputId": "51d42a8d-140b-45fd-c5d9-a76da3f878e9"
      },
      "execution_count": null,
      "outputs": [
        {
          "output_type": "execute_result",
          "data": {
            "text/html": [
              "\n",
              "  <div id=\"df-c6aa7857-119a-4a14-b9a0-d7a47925dbb5\">\n",
              "    <div class=\"colab-df-container\">\n",
              "      <div>\n",
              "<style scoped>\n",
              "    .dataframe tbody tr th:only-of-type {\n",
              "        vertical-align: middle;\n",
              "    }\n",
              "\n",
              "    .dataframe tbody tr th {\n",
              "        vertical-align: top;\n",
              "    }\n",
              "\n",
              "    .dataframe thead th {\n",
              "        text-align: right;\n",
              "    }\n",
              "</style>\n",
              "<table border=\"1\" class=\"dataframe\">\n",
              "  <thead>\n",
              "    <tr style=\"text-align: right;\">\n",
              "      <th></th>\n",
              "      <th>step</th>\n",
              "      <th>amount</th>\n",
              "      <th>oldbalanceOrg</th>\n",
              "      <th>newbalanceOrig</th>\n",
              "      <th>oldbalanceDest</th>\n",
              "      <th>newbalanceDest</th>\n",
              "      <th>isFraud</th>\n",
              "      <th>isFlaggedFraud</th>\n",
              "    </tr>\n",
              "  </thead>\n",
              "  <tbody>\n",
              "    <tr>\n",
              "      <th>count</th>\n",
              "      <td>2.048519e+06</td>\n",
              "      <td>2.048519e+06</td>\n",
              "      <td>2.048519e+06</td>\n",
              "      <td>2.048519e+06</td>\n",
              "      <td>2.048518e+06</td>\n",
              "      <td>2.048518e+06</td>\n",
              "      <td>2.048518e+06</td>\n",
              "      <td>2048518.0</td>\n",
              "    </tr>\n",
              "    <tr>\n",
              "      <th>mean</th>\n",
              "      <td>8.709984e+01</td>\n",
              "      <td>1.615621e+05</td>\n",
              "      <td>8.547007e+05</td>\n",
              "      <td>8.760121e+05</td>\n",
              "      <td>9.967558e+05</td>\n",
              "      <td>1.114912e+06</td>\n",
              "      <td>1.000723e-03</td>\n",
              "      <td>0.0</td>\n",
              "    </tr>\n",
              "    <tr>\n",
              "      <th>std</th>\n",
              "      <td>6.369289e+01</td>\n",
              "      <td>2.713924e+05</td>\n",
              "      <td>2.921868e+06</td>\n",
              "      <td>2.958113e+06</td>\n",
              "      <td>2.304549e+06</td>\n",
              "      <td>2.399053e+06</td>\n",
              "      <td>3.161839e-02</td>\n",
              "      <td>0.0</td>\n",
              "    </tr>\n",
              "    <tr>\n",
              "      <th>min</th>\n",
              "      <td>1.000000e+00</td>\n",
              "      <td>6.000000e-02</td>\n",
              "      <td>0.000000e+00</td>\n",
              "      <td>0.000000e+00</td>\n",
              "      <td>0.000000e+00</td>\n",
              "      <td>0.000000e+00</td>\n",
              "      <td>0.000000e+00</td>\n",
              "      <td>0.0</td>\n",
              "    </tr>\n",
              "    <tr>\n",
              "      <th>25%</th>\n",
              "      <td>2.000000e+01</td>\n",
              "      <td>1.308307e+04</td>\n",
              "      <td>0.000000e+00</td>\n",
              "      <td>0.000000e+00</td>\n",
              "      <td>0.000000e+00</td>\n",
              "      <td>0.000000e+00</td>\n",
              "      <td>0.000000e+00</td>\n",
              "      <td>0.0</td>\n",
              "    </tr>\n",
              "    <tr>\n",
              "      <th>50%</th>\n",
              "      <td>4.800000e+01</td>\n",
              "      <td>7.831338e+04</td>\n",
              "      <td>1.494100e+04</td>\n",
              "      <td>0.000000e+00</td>\n",
              "      <td>1.377113e+05</td>\n",
              "      <td>2.281467e+05</td>\n",
              "      <td>0.000000e+00</td>\n",
              "      <td>0.0</td>\n",
              "    </tr>\n",
              "    <tr>\n",
              "      <th>75%</th>\n",
              "      <td>1.540000e+02</td>\n",
              "      <td>2.167590e+05</td>\n",
              "      <td>1.200311e+05</td>\n",
              "      <td>1.615194e+05</td>\n",
              "      <td>9.484869e+05</td>\n",
              "      <td>1.151617e+06</td>\n",
              "      <td>0.000000e+00</td>\n",
              "      <td>0.0</td>\n",
              "    </tr>\n",
              "    <tr>\n",
              "      <th>max</th>\n",
              "      <td>1.810000e+02</td>\n",
              "      <td>1.000000e+07</td>\n",
              "      <td>3.893942e+07</td>\n",
              "      <td>3.894623e+07</td>\n",
              "      <td>4.220740e+07</td>\n",
              "      <td>4.228378e+07</td>\n",
              "      <td>1.000000e+00</td>\n",
              "      <td>0.0</td>\n",
              "    </tr>\n",
              "  </tbody>\n",
              "</table>\n",
              "</div>\n",
              "      <button class=\"colab-df-convert\" onclick=\"convertToInteractive('df-c6aa7857-119a-4a14-b9a0-d7a47925dbb5')\"\n",
              "              title=\"Convert this dataframe to an interactive table.\"\n",
              "              style=\"display:none;\">\n",
              "        \n",
              "  <svg xmlns=\"http://www.w3.org/2000/svg\" height=\"24px\"viewBox=\"0 0 24 24\"\n",
              "       width=\"24px\">\n",
              "    <path d=\"M0 0h24v24H0V0z\" fill=\"none\"/>\n",
              "    <path d=\"M18.56 5.44l.94 2.06.94-2.06 2.06-.94-2.06-.94-.94-2.06-.94 2.06-2.06.94zm-11 1L8.5 8.5l.94-2.06 2.06-.94-2.06-.94L8.5 2.5l-.94 2.06-2.06.94zm10 10l.94 2.06.94-2.06 2.06-.94-2.06-.94-.94-2.06-.94 2.06-2.06.94z\"/><path d=\"M17.41 7.96l-1.37-1.37c-.4-.4-.92-.59-1.43-.59-.52 0-1.04.2-1.43.59L10.3 9.45l-7.72 7.72c-.78.78-.78 2.05 0 2.83L4 21.41c.39.39.9.59 1.41.59.51 0 1.02-.2 1.41-.59l7.78-7.78 2.81-2.81c.8-.78.8-2.07 0-2.86zM5.41 20L4 18.59l7.72-7.72 1.47 1.35L5.41 20z\"/>\n",
              "  </svg>\n",
              "      </button>\n",
              "      \n",
              "  <style>\n",
              "    .colab-df-container {\n",
              "      display:flex;\n",
              "      flex-wrap:wrap;\n",
              "      gap: 12px;\n",
              "    }\n",
              "\n",
              "    .colab-df-convert {\n",
              "      background-color: #E8F0FE;\n",
              "      border: none;\n",
              "      border-radius: 50%;\n",
              "      cursor: pointer;\n",
              "      display: none;\n",
              "      fill: #1967D2;\n",
              "      height: 32px;\n",
              "      padding: 0 0 0 0;\n",
              "      width: 32px;\n",
              "    }\n",
              "\n",
              "    .colab-df-convert:hover {\n",
              "      background-color: #E2EBFA;\n",
              "      box-shadow: 0px 1px 2px rgba(60, 64, 67, 0.3), 0px 1px 3px 1px rgba(60, 64, 67, 0.15);\n",
              "      fill: #174EA6;\n",
              "    }\n",
              "\n",
              "    [theme=dark] .colab-df-convert {\n",
              "      background-color: #3B4455;\n",
              "      fill: #D2E3FC;\n",
              "    }\n",
              "\n",
              "    [theme=dark] .colab-df-convert:hover {\n",
              "      background-color: #434B5C;\n",
              "      box-shadow: 0px 1px 3px 1px rgba(0, 0, 0, 0.15);\n",
              "      filter: drop-shadow(0px 1px 2px rgba(0, 0, 0, 0.3));\n",
              "      fill: #FFFFFF;\n",
              "    }\n",
              "  </style>\n",
              "\n",
              "      <script>\n",
              "        const buttonEl =\n",
              "          document.querySelector('#df-c6aa7857-119a-4a14-b9a0-d7a47925dbb5 button.colab-df-convert');\n",
              "        buttonEl.style.display =\n",
              "          google.colab.kernel.accessAllowed ? 'block' : 'none';\n",
              "\n",
              "        async function convertToInteractive(key) {\n",
              "          const element = document.querySelector('#df-c6aa7857-119a-4a14-b9a0-d7a47925dbb5');\n",
              "          const dataTable =\n",
              "            await google.colab.kernel.invokeFunction('convertToInteractive',\n",
              "                                                     [key], {});\n",
              "          if (!dataTable) return;\n",
              "\n",
              "          const docLinkHtml = 'Like what you see? Visit the ' +\n",
              "            '<a target=\"_blank\" href=https://colab.research.google.com/notebooks/data_table.ipynb>data table notebook</a>'\n",
              "            + ' to learn more about interactive tables.';\n",
              "          element.innerHTML = '';\n",
              "          dataTable['output_type'] = 'display_data';\n",
              "          await google.colab.output.renderOutput(dataTable, element);\n",
              "          const docLink = document.createElement('div');\n",
              "          docLink.innerHTML = docLinkHtml;\n",
              "          element.appendChild(docLink);\n",
              "        }\n",
              "      </script>\n",
              "    </div>\n",
              "  </div>\n",
              "  "
            ],
            "text/plain": [
              "               step        amount  ...       isFraud  isFlaggedFraud\n",
              "count  2.048519e+06  2.048519e+06  ...  2.048518e+06       2048518.0\n",
              "mean   8.709984e+01  1.615621e+05  ...  1.000723e-03             0.0\n",
              "std    6.369289e+01  2.713924e+05  ...  3.161839e-02             0.0\n",
              "min    1.000000e+00  6.000000e-02  ...  0.000000e+00             0.0\n",
              "25%    2.000000e+01  1.308307e+04  ...  0.000000e+00             0.0\n",
              "50%    4.800000e+01  7.831338e+04  ...  0.000000e+00             0.0\n",
              "75%    1.540000e+02  2.167590e+05  ...  0.000000e+00             0.0\n",
              "max    1.810000e+02  1.000000e+07  ...  1.000000e+00             0.0\n",
              "\n",
              "[8 rows x 8 columns]"
            ]
          },
          "metadata": {},
          "execution_count": 75
        }
      ]
    },
    {
      "cell_type": "markdown",
      "source": [
        "Check for presence of null/missing values, True shows null values are present in dataset"
      ],
      "metadata": {
        "id": "RSNR5TLHz7sv"
      }
    },
    {
      "cell_type": "code",
      "source": [
        "# check entire dataframe for any Null/missing values present\n",
        "df.isnull().values.any()"
      ],
      "metadata": {
        "id": "cwINLwEEQ8KT",
        "colab": {
          "base_uri": "https://localhost:8080/"
        },
        "outputId": "ba3c317e-7aac-4620-f193-7670b6f630dc"
      },
      "execution_count": null,
      "outputs": [
        {
          "output_type": "execute_result",
          "data": {
            "text/plain": [
              "True"
            ]
          },
          "metadata": {},
          "execution_count": 76
        }
      ]
    },
    {
      "cell_type": "markdown",
      "source": [
        "Count total null values in dataframe"
      ],
      "metadata": {
        "id": "HEmxrk4Z0LOl"
      }
    },
    {
      "cell_type": "code",
      "source": [
        "# count all NaN on entire dataframe\n",
        "count_nan = df.isnull().sum().sum()\n",
        "count_nan"
      ],
      "metadata": {
        "id": "VsuQ54DbRZ8f",
        "colab": {
          "base_uri": "https://localhost:8080/"
        },
        "outputId": "894d4575-829e-4af8-c036-e695a14db588"
      },
      "execution_count": null,
      "outputs": [
        {
          "output_type": "execute_result",
          "data": {
            "text/plain": [
              "4"
            ]
          },
          "metadata": {},
          "execution_count": 77
        }
      ]
    },
    {
      "cell_type": "markdown",
      "source": [
        "Replace null/missing values with 0"
      ],
      "metadata": {
        "id": "8nOumbX30QZJ"
      }
    },
    {
      "cell_type": "code",
      "source": [
        "# replace Nan values with 0\n",
        "df1=df.replace(np.nan,0)\n",
        "\n",
        "#check for NaN values\n",
        "df1.isnull().values.any()"
      ],
      "metadata": {
        "id": "ran1oNvFlbT1",
        "colab": {
          "base_uri": "https://localhost:8080/"
        },
        "outputId": "b96ae60f-66fc-4686-ca99-a9205021e8e8"
      },
      "execution_count": null,
      "outputs": [
        {
          "output_type": "execute_result",
          "data": {
            "text/plain": [
              "False"
            ]
          },
          "metadata": {},
          "execution_count": 78
        }
      ]
    },
    {
      "cell_type": "code",
      "source": [
        "sns.catplot(x=\"type\", y=\"amount\",data=df1)"
      ],
      "metadata": {
        "colab": {
          "base_uri": "https://localhost:8080/",
          "height": 388
        },
        "id": "aBiv9ScedKnq",
        "outputId": "cc322497-acba-49e3-df18-0f089a8b6828"
      },
      "execution_count": null,
      "outputs": [
        {
          "output_type": "execute_result",
          "data": {
            "text/plain": [
              "<seaborn.axisgrid.FacetGrid at 0x7f942bd34910>"
            ]
          },
          "metadata": {},
          "execution_count": 79
        },
        {
          "output_type": "display_data",
          "data": {
            "image/png": "[encoded data removed]",
            "text/plain": [
              "<Figure size 360x360 with 1 Axes>"
            ]
          },
          "metadata": {
            "needs_background": "light"
          }
        }
      ]
    },
    {
      "cell_type": "code",
      "source": [
        "sns.catplot(x=\"type\", y=\"oldbalanceOrg\", kind=\"box\", data=df1)"
      ],
      "metadata": {
        "colab": {
          "base_uri": "https://localhost:8080/",
          "height": 388
        },
        "id": "-KxdDzfJdhQw",
        "outputId": "6e376360-45b2-4ba5-dc46-2dea2a76c74e"
      },
      "execution_count": null,
      "outputs": [
        {
          "output_type": "execute_result",
          "data": {
            "text/plain": [
              "<seaborn.axisgrid.FacetGrid at 0x7f942cca9190>"
            ]
          },
          "metadata": {},
          "execution_count": 80
        },
        {
          "output_type": "display_data",
          "data": {
            "image/png": "[encoded data removed]",
            "text/plain": [
              "<Figure size 360x360 with 1 Axes>"
            ]
          },
          "metadata": {
            "needs_background": "light"
          }
        }
      ]
    },
    {
      "cell_type": "markdown",
      "source": [
        "Count total fraud cases as per isFraud column in dataframe"
      ],
      "metadata": {
        "id": "9FrSn9Uq0Wmz"
      }
    },
    {
      "cell_type": "code",
      "source": [
        "# counting totL FRAUDS occurred (1 in the isFraud column depicts fraud occurrence)\n",
        "df1['isFraud'].values.sum()"
      ],
      "metadata": {
        "id": "E8Ouw1xRRyz-",
        "colab": {
          "base_uri": "https://localhost:8080/"
        },
        "outputId": "5623252a-0c5d-49ac-ec20-c94b7afd3461"
      },
      "execution_count": null,
      "outputs": [
        {
          "output_type": "execute_result",
          "data": {
            "text/plain": [
              "2044.0"
            ]
          },
          "metadata": {},
          "execution_count": 10
        }
      ]
    },
    {
      "cell_type": "markdown",
      "source": [
        "Check for duplicate rows and remove them if any"
      ],
      "metadata": {
        "id": "U_DHYzOB0eQv"
      }
    },
    {
      "cell_type": "code",
      "source": [
        "# this shows duplicate rows in our dataset\n",
        "df1.duplicated()"
      ],
      "metadata": {
        "id": "lDGtuj_IfsE5",
        "colab": {
          "base_uri": "https://localhost:8080/"
        },
        "outputId": "3cb3f2cc-6e40-4389-8ef4-b94af923e6c4"
      },
      "execution_count": null,
      "outputs": [
        {
          "output_type": "execute_result",
          "data": {
            "text/plain": [
              "0          False\n",
              "1          False\n",
              "2          False\n",
              "3          False\n",
              "4          False\n",
              "           ...  \n",
              "2048514    False\n",
              "2048515    False\n",
              "2048516    False\n",
              "2048517    False\n",
              "2048518    False\n",
              "Length: 2048519, dtype: bool"
            ]
          },
          "metadata": {},
          "execution_count": 83
        }
      ]
    },
    {
      "cell_type": "markdown",
      "source": [
        "There are no duplicate rows in our dataset."
      ],
      "metadata": {
        "id": "hNzr0n8Rhg3Z"
      }
    },
    {
      "cell_type": "markdown",
      "source": [
        "Dropping categorical variables from the dataset which would not be used for further analysis of data"
      ],
      "metadata": {
        "id": "Bq5ITFVmdmaC"
      }
    },
    {
      "cell_type": "code",
      "source": [
        "df1=df1.drop(['nameOrig','nameDest','isFlaggedFraud'],axis=1)\n",
        "df1.head(5)"
      ],
      "metadata": {
        "id": "zyv0LYgRdl9e",
        "colab": {
          "base_uri": "https://localhost:8080/",
          "height": 206
        },
        "outputId": "ab0a0c5f-0a3f-4a6a-eeba-58a5d5cf2e3e"
      },
      "execution_count": null,
      "outputs": [
        {
          "output_type": "execute_result",
          "data": {
            "text/html": [
              "\n",
              "  <div id=\"df-564d3075-133d-4df2-9c64-123c2e1a2c7d\">\n",
              "    <div class=\"colab-df-container\">\n",
              "      <div>\n",
              "<style scoped>\n",
              "    .dataframe tbody tr th:only-of-type {\n",
              "        vertical-align: middle;\n",
              "    }\n",
              "\n",
              "    .dataframe tbody tr th {\n",
              "        vertical-align: top;\n",
              "    }\n",
              "\n",
              "    .dataframe thead th {\n",
              "        text-align: right;\n",
              "    }\n",
              "</style>\n",
              "<table border=\"1\" class=\"dataframe\">\n",
              "  <thead>\n",
              "    <tr style=\"text-align: right;\">\n",
              "      <th></th>\n",
              "      <th>step</th>\n",
              "      <th>type</th>\n",
              "      <th>amount</th>\n",
              "      <th>oldbalanceOrg</th>\n",
              "      <th>newbalanceOrig</th>\n",
              "      <th>oldbalanceDest</th>\n",
              "      <th>newbalanceDest</th>\n",
              "      <th>isFraud</th>\n",
              "    </tr>\n",
              "  </thead>\n",
              "  <tbody>\n",
              "    <tr>\n",
              "      <th>0</th>\n",
              "      <td>1</td>\n",
              "      <td>PAYMENT</td>\n",
              "      <td>9839.64</td>\n",
              "      <td>170136.0</td>\n",
              "      <td>160296.36</td>\n",
              "      <td>0.0</td>\n",
              "      <td>0.0</td>\n",
              "      <td>0.0</td>\n",
              "    </tr>\n",
              "    <tr>\n",
              "      <th>1</th>\n",
              "      <td>1</td>\n",
              "      <td>PAYMENT</td>\n",
              "      <td>1864.28</td>\n",
              "      <td>21249.0</td>\n",
              "      <td>19384.72</td>\n",
              "      <td>0.0</td>\n",
              "      <td>0.0</td>\n",
              "      <td>0.0</td>\n",
              "    </tr>\n",
              "    <tr>\n",
              "      <th>2</th>\n",
              "      <td>1</td>\n",
              "      <td>TRANSFER</td>\n",
              "      <td>181.00</td>\n",
              "      <td>181.0</td>\n",
              "      <td>0.00</td>\n",
              "      <td>0.0</td>\n",
              "      <td>0.0</td>\n",
              "      <td>1.0</td>\n",
              "    </tr>\n",
              "    <tr>\n",
              "      <th>3</th>\n",
              "      <td>1</td>\n",
              "      <td>CASH_OUT</td>\n",
              "      <td>181.00</td>\n",
              "      <td>181.0</td>\n",
              "      <td>0.00</td>\n",
              "      <td>21182.0</td>\n",
              "      <td>0.0</td>\n",
              "      <td>1.0</td>\n",
              "    </tr>\n",
              "    <tr>\n",
              "      <th>4</th>\n",
              "      <td>1</td>\n",
              "      <td>PAYMENT</td>\n",
              "      <td>11668.14</td>\n",
              "      <td>41554.0</td>\n",
              "      <td>29885.86</td>\n",
              "      <td>0.0</td>\n",
              "      <td>0.0</td>\n",
              "      <td>0.0</td>\n",
              "    </tr>\n",
              "  </tbody>\n",
              "</table>\n",
              "</div>\n",
              "      <button class=\"colab-df-convert\" onclick=\"convertToInteractive('df-564d3075-133d-4df2-9c64-123c2e1a2c7d')\"\n",
              "              title=\"Convert this dataframe to an interactive table.\"\n",
              "              style=\"display:none;\">\n",
              "        \n",
              "  <svg xmlns=\"http://www.w3.org/2000/svg\" height=\"24px\"viewBox=\"0 0 24 24\"\n",
              "       width=\"24px\">\n",
              "    <path d=\"M0 0h24v24H0V0z\" fill=\"none\"/>\n",
              "    <path d=\"M18.56 5.44l.94 2.06.94-2.06 2.06-.94-2.06-.94-.94-2.06-.94 2.06-2.06.94zm-11 1L8.5 8.5l.94-2.06 2.06-.94-2.06-.94L8.5 2.5l-.94 2.06-2.06.94zm10 10l.94 2.06.94-2.06 2.06-.94-2.06-.94-.94-2.06-.94 2.06-2.06.94z\"/><path d=\"M17.41 7.96l-1.37-1.37c-.4-.4-.92-.59-1.43-.59-.52 0-1.04.2-1.43.59L10.3 9.45l-7.72 7.72c-.78.78-.78 2.05 0 2.83L4 21.41c.39.39.9.59 1.41.59.51 0 1.02-.2 1.41-.59l7.78-7.78 2.81-2.81c.8-.78.8-2.07 0-2.86zM5.41 20L4 18.59l7.72-7.72 1.47 1.35L5.41 20z\"/>\n",
              "  </svg>\n",
              "      </button>\n",
              "      \n",
              "  <style>\n",
              "    .colab-df-container {\n",
              "      display:flex;\n",
              "      flex-wrap:wrap;\n",
              "      gap: 12px;\n",
              "    }\n",
              "\n",
              "    .colab-df-convert {\n",
              "      background-color: #E8F0FE;\n",
              "      border: none;\n",
              "      border-radius: 50%;\n",
              "      cursor: pointer;\n",
              "      display: none;\n",
              "      fill: #1967D2;\n",
              "      height: 32px;\n",
              "      padding: 0 0 0 0;\n",
              "      width: 32px;\n",
              "    }\n",
              "\n",
              "    .colab-df-convert:hover {\n",
              "      background-color: #E2EBFA;\n",
              "      box-shadow: 0px 1px 2px rgba(60, 64, 67, 0.3), 0px 1px 3px 1px rgba(60, 64, 67, 0.15);\n",
              "      fill: #174EA6;\n",
              "    }\n",
              "\n",
              "    [theme=dark] .colab-df-convert {\n",
              "      background-color: #3B4455;\n",
              "      fill: #D2E3FC;\n",
              "    }\n",
              "\n",
              "    [theme=dark] .colab-df-convert:hover {\n",
              "      background-color: #434B5C;\n",
              "      box-shadow: 0px 1px 3px 1px rgba(0, 0, 0, 0.15);\n",
              "      filter: drop-shadow(0px 1px 2px rgba(0, 0, 0, 0.3));\n",
              "      fill: #FFFFFF;\n",
              "    }\n",
              "  </style>\n",
              "\n",
              "      <script>\n",
              "        const buttonEl =\n",
              "          document.querySelector('#df-564d3075-133d-4df2-9c64-123c2e1a2c7d button.colab-df-convert');\n",
              "        buttonEl.style.display =\n",
              "          google.colab.kernel.accessAllowed ? 'block' : 'none';\n",
              "\n",
              "        async function convertToInteractive(key) {\n",
              "          const element = document.querySelector('#df-564d3075-133d-4df2-9c64-123c2e1a2c7d');\n",
              "          const dataTable =\n",
              "            await google.colab.kernel.invokeFunction('convertToInteractive',\n",
              "                                                     [key], {});\n",
              "          if (!dataTable) return;\n",
              "\n",
              "          const docLinkHtml = 'Like what you see? Visit the ' +\n",
              "            '<a target=\"_blank\" href=https://colab.research.google.com/notebooks/data_table.ipynb>data table notebook</a>'\n",
              "            + ' to learn more about interactive tables.';\n",
              "          element.innerHTML = '';\n",
              "          dataTable['output_type'] = 'display_data';\n",
              "          await google.colab.output.renderOutput(dataTable, element);\n",
              "          const docLink = document.createElement('div');\n",
              "          docLink.innerHTML = docLinkHtml;\n",
              "          element.appendChild(docLink);\n",
              "        }\n",
              "      </script>\n",
              "    </div>\n",
              "  </div>\n",
              "  "
            ],
            "text/plain": [
              "   step      type    amount  ...  oldbalanceDest  newbalanceDest  isFraud\n",
              "0     1   PAYMENT   9839.64  ...             0.0             0.0      0.0\n",
              "1     1   PAYMENT   1864.28  ...             0.0             0.0      0.0\n",
              "2     1  TRANSFER    181.00  ...             0.0             0.0      1.0\n",
              "3     1  CASH_OUT    181.00  ...         21182.0             0.0      1.0\n",
              "4     1   PAYMENT  11668.14  ...             0.0             0.0      0.0\n",
              "\n",
              "[5 rows x 8 columns]"
            ]
          },
          "metadata": {},
          "execution_count": 84
        }
      ]
    },
    {
      "cell_type": "markdown",
      "source": [
        "Plotting box plot for dependent and independent variables"
      ],
      "metadata": {
        "id": "qtmJPYjk0nzg"
      }
    },
    {
      "cell_type": "code",
      "source": [
        "import seaborn as sns\n",
        "\n",
        "df = pd.DataFrame(data = np.random.random(size=(10,5)), columns = ['amount','oldbalanceOrg','oldbalanceDest','newbalanceOrg','newbalanceDest'])\n",
        "\n",
        "sns.boxplot(x=\"variable\", y=\"value\", data=pd.melt(df))"
      ],
      "metadata": {
        "colab": {
          "base_uri": "https://localhost:8080/",
          "height": 297
        },
        "id": "9auai8PW1EHa",
        "outputId": "6152afaf-4319-4c10-b598-c656ea45c835"
      },
      "execution_count": null,
      "outputs": [
        {
          "output_type": "execute_result",
          "data": {
            "text/plain": [
              "<matplotlib.axes._subplots.AxesSubplot at 0x7f942a291750>"
            ]
          },
          "metadata": {},
          "execution_count": 85
        },
        {
          "output_type": "display_data",
          "data": {
            "image/png": "[encoded data removed]",
            "text/plain": [
              "<Figure size 288x288 with 1 Axes>"
            ]
          },
          "metadata": {
            "needs_background": "light"
          }
        }
      ]
    },
    {
      "cell_type": "markdown",
      "source": [
        "A box plot (or box-and-whisker plot) shows the distribution of quantitative data in a way that facilitates comparisons between variables or across levels of a categorical variable. The box shows the quartiles of the dataset while the whiskers extend to show the rest of the distribution, except for points that are determined to be \"outliers\" using a method that is a function of the inter-quartile range."
      ],
      "metadata": {
        "id": "yoEe_Rh0irCE"
      }
    },
    {
      "cell_type": "code",
      "source": [
        "# Removing outliers \n",
        "import seaborn as sns\n",
        "\n",
        "# plotting boxplot to visualize outliers\n",
        "sns.boxplot(x=df1['newbalanceDest'])\n"
      ],
      "metadata": {
        "id": "l6LnXnp0graT",
        "colab": {
          "base_uri": "https://localhost:8080/",
          "height": 297
        },
        "outputId": "340cba6b-c92a-40de-8ede-54480ec0884a"
      },
      "execution_count": null,
      "outputs": [
        {
          "output_type": "execute_result",
          "data": {
            "text/plain": [
              "<matplotlib.axes._subplots.AxesSubplot at 0x7f9438fae490>"
            ]
          },
          "metadata": {},
          "execution_count": 86
        },
        {
          "output_type": "display_data",
          "data": {
            "image/png": "[encoded data removed]",
            "text/plain": [
              "<Figure size 288x288 with 1 Axes>"
            ]
          },
          "metadata": {
            "needs_background": "light"
          }
        }
      ]
    },
    {
      "cell_type": "code",
      "source": [
        "sns.boxplot(x=df1['oldbalanceDest'])"
      ],
      "metadata": {
        "colab": {
          "base_uri": "https://localhost:8080/",
          "height": 297
        },
        "id": "Kv6sfs-g2-le",
        "outputId": "2d2bb673-b77c-4b8c-9903-ae1d2b9c4ab3"
      },
      "execution_count": null,
      "outputs": [
        {
          "output_type": "execute_result",
          "data": {
            "text/plain": [
              "<matplotlib.axes._subplots.AxesSubplot at 0x7f942a198c50>"
            ]
          },
          "metadata": {},
          "execution_count": 87
        },
        {
          "output_type": "display_data",
          "data": {
            "image/png": "[encoded data removed]",
            "text/plain": [
              "<Figure size 288x288 with 1 Axes>"
            ]
          },
          "metadata": {
            "needs_background": "light"
          }
        }
      ]
    },
    {
      "cell_type": "code",
      "source": [
        "sns.boxplot(x=df1['amount'])"
      ],
      "metadata": {
        "colab": {
          "base_uri": "https://localhost:8080/",
          "height": 297
        },
        "id": "WpMyjJfv3D1V",
        "outputId": "3fd7a282-0adf-4b38-babe-e5685273a4f8"
      },
      "execution_count": null,
      "outputs": [
        {
          "output_type": "execute_result",
          "data": {
            "text/plain": [
              "<matplotlib.axes._subplots.AxesSubplot at 0x7f943fe6c790>"
            ]
          },
          "metadata": {},
          "execution_count": 16
        },
        {
          "output_type": "display_data",
          "data": {
            "image/png": "[encoded data removed]",
            "text/plain": [
              "<Figure size 432x288 with 1 Axes>"
            ]
          },
          "metadata": {
            "needs_background": "light"
          }
        }
      ]
    },
    {
      "cell_type": "markdown",
      "source": [
        "The above plots show high skewness in the data points."
      ],
      "metadata": {
        "id": "HhbknJrc3Kd8"
      }
    },
    {
      "cell_type": "markdown",
      "source": [
        "The data points lying to the extreme side of right whisker are the outliers in the newbalanceDest column. In this case the points near to the right whisker vicinity is considered and those lying away will be dropped."
      ],
      "metadata": {
        "id": "lB8BWH-bi_e0"
      }
    },
    {
      "cell_type": "markdown",
      "source": [
        "# Feature Engineering"
      ],
      "metadata": {
        "id": "PWRW_8ff3Wbh"
      }
    },
    {
      "cell_type": "markdown",
      "source": [
        "#Remove outliers"
      ],
      "metadata": {
        "id": "Gxj18_Xc3iOT"
      }
    },
    {
      "cell_type": "code",
      "source": [
        "df1.shape"
      ],
      "metadata": {
        "id": "9sq-v4CPiWiy",
        "colab": {
          "base_uri": "https://localhost:8080/"
        },
        "outputId": "017c6944-720c-4c6a-9a4a-9a720fe376c9"
      },
      "execution_count": null,
      "outputs": [
        {
          "output_type": "execute_result",
          "data": {
            "text/plain": [
              "(2035021, 8)"
            ]
          },
          "metadata": {},
          "execution_count": 17
        }
      ]
    },
    {
      "cell_type": "markdown",
      "source": [
        "Calculating the first quartile, third quartile and Inter-quartile range "
      ],
      "metadata": {
        "id": "wJN3zQq7laRH"
      }
    },
    {
      "cell_type": "code",
      "source": [
        "q1=df1['newbalanceDest'].quantile(.25)\n",
        "q3=df1['newbalanceDest'].quantile(.75)\n",
        "IQR=q3-q1\n",
        "\n",
        "new_boundary=q3+3*IQR"
      ],
      "metadata": {
        "id": "mE1J4lIWlk98"
      },
      "execution_count": null,
      "outputs": []
    },
    {
      "cell_type": "markdown",
      "source": [
        "Removing outliers from all the independent variables columns"
      ],
      "metadata": {
        "id": "6qtuLoZdlQid"
      }
    },
    {
      "cell_type": "code",
      "source": [
        "df1[(df1['newbalanceDest']<q3) & (df1['newbalanceDest'])>q1] "
      ],
      "metadata": {
        "colab": {
          "base_uri": "https://localhost:8080/",
          "height": 423
        },
        "id": "s5L_7lU241H-",
        "outputId": "c1e39ba6-bca6-478e-ba52-5677e8002610"
      },
      "execution_count": null,
      "outputs": [
        {
          "output_type": "execute_result",
          "data": {
            "text/html": [
              "\n",
              "  <div id=\"df-e84b09a8-452c-4e9b-b569-0a4ad39b9b8b\">\n",
              "    <div class=\"colab-df-container\">\n",
              "      <div>\n",
              "<style scoped>\n",
              "    .dataframe tbody tr th:only-of-type {\n",
              "        vertical-align: middle;\n",
              "    }\n",
              "\n",
              "    .dataframe tbody tr th {\n",
              "        vertical-align: top;\n",
              "    }\n",
              "\n",
              "    .dataframe thead th {\n",
              "        text-align: right;\n",
              "    }\n",
              "</style>\n",
              "<table border=\"1\" class=\"dataframe\">\n",
              "  <thead>\n",
              "    <tr style=\"text-align: right;\">\n",
              "      <th></th>\n",
              "      <th>step</th>\n",
              "      <th>type</th>\n",
              "      <th>amount</th>\n",
              "      <th>oldbalanceOrg</th>\n",
              "      <th>newbalanceOrig</th>\n",
              "      <th>oldbalanceDest</th>\n",
              "      <th>newbalanceDest</th>\n",
              "      <th>isFraud</th>\n",
              "    </tr>\n",
              "  </thead>\n",
              "  <tbody>\n",
              "    <tr>\n",
              "      <th>9</th>\n",
              "      <td>1</td>\n",
              "      <td>DEBIT</td>\n",
              "      <td>5337.77</td>\n",
              "      <td>41720.0</td>\n",
              "      <td>36382.23</td>\n",
              "      <td>41898.00</td>\n",
              "      <td>40348.79</td>\n",
              "      <td>0.0</td>\n",
              "    </tr>\n",
              "    <tr>\n",
              "      <th>10</th>\n",
              "      <td>1</td>\n",
              "      <td>DEBIT</td>\n",
              "      <td>9644.94</td>\n",
              "      <td>4465.0</td>\n",
              "      <td>0.00</td>\n",
              "      <td>10845.00</td>\n",
              "      <td>157982.12</td>\n",
              "      <td>0.0</td>\n",
              "    </tr>\n",
              "    <tr>\n",
              "      <th>15</th>\n",
              "      <td>1</td>\n",
              "      <td>CASH_OUT</td>\n",
              "      <td>229133.94</td>\n",
              "      <td>15325.0</td>\n",
              "      <td>0.00</td>\n",
              "      <td>5083.00</td>\n",
              "      <td>51513.44</td>\n",
              "      <td>0.0</td>\n",
              "    </tr>\n",
              "    <tr>\n",
              "      <th>21</th>\n",
              "      <td>1</td>\n",
              "      <td>DEBIT</td>\n",
              "      <td>9302.79</td>\n",
              "      <td>11299.0</td>\n",
              "      <td>1996.21</td>\n",
              "      <td>29832.00</td>\n",
              "      <td>16896.70</td>\n",
              "      <td>0.0</td>\n",
              "    </tr>\n",
              "    <tr>\n",
              "      <th>41</th>\n",
              "      <td>1</td>\n",
              "      <td>DEBIT</td>\n",
              "      <td>5758.59</td>\n",
              "      <td>32604.0</td>\n",
              "      <td>26845.41</td>\n",
              "      <td>209699.00</td>\n",
              "      <td>16997.22</td>\n",
              "      <td>0.0</td>\n",
              "    </tr>\n",
              "    <tr>\n",
              "      <th>...</th>\n",
              "      <td>...</td>\n",
              "      <td>...</td>\n",
              "      <td>...</td>\n",
              "      <td>...</td>\n",
              "      <td>...</td>\n",
              "      <td>...</td>\n",
              "      <td>...</td>\n",
              "      <td>...</td>\n",
              "    </tr>\n",
              "    <tr>\n",
              "      <th>2048509</th>\n",
              "      <td>181</td>\n",
              "      <td>CASH_OUT</td>\n",
              "      <td>110644.85</td>\n",
              "      <td>63554.0</td>\n",
              "      <td>0.00</td>\n",
              "      <td>0.00</td>\n",
              "      <td>110644.85</td>\n",
              "      <td>0.0</td>\n",
              "    </tr>\n",
              "    <tr>\n",
              "      <th>2048510</th>\n",
              "      <td>181</td>\n",
              "      <td>CASH_OUT</td>\n",
              "      <td>5653.42</td>\n",
              "      <td>21249.0</td>\n",
              "      <td>15595.58</td>\n",
              "      <td>0.00</td>\n",
              "      <td>5653.42</td>\n",
              "      <td>0.0</td>\n",
              "    </tr>\n",
              "    <tr>\n",
              "      <th>2048512</th>\n",
              "      <td>181</td>\n",
              "      <td>CASH_OUT</td>\n",
              "      <td>79624.84</td>\n",
              "      <td>14296.0</td>\n",
              "      <td>0.00</td>\n",
              "      <td>0.00</td>\n",
              "      <td>79624.84</td>\n",
              "      <td>0.0</td>\n",
              "    </tr>\n",
              "    <tr>\n",
              "      <th>2048515</th>\n",
              "      <td>181</td>\n",
              "      <td>CASH_OUT</td>\n",
              "      <td>315365.20</td>\n",
              "      <td>0.0</td>\n",
              "      <td>0.00</td>\n",
              "      <td>486353.03</td>\n",
              "      <td>801718.23</td>\n",
              "      <td>0.0</td>\n",
              "    </tr>\n",
              "    <tr>\n",
              "      <th>2048517</th>\n",
              "      <td>181</td>\n",
              "      <td>CASH_OUT</td>\n",
              "      <td>64293.34</td>\n",
              "      <td>0.0</td>\n",
              "      <td>0.00</td>\n",
              "      <td>237357.95</td>\n",
              "      <td>301651.29</td>\n",
              "      <td>0.0</td>\n",
              "    </tr>\n",
              "  </tbody>\n",
              "</table>\n",
              "<p>752084 rows × 8 columns</p>\n",
              "</div>\n",
              "      <button class=\"colab-df-convert\" onclick=\"convertToInteractive('df-e84b09a8-452c-4e9b-b569-0a4ad39b9b8b')\"\n",
              "              title=\"Convert this dataframe to an interactive table.\"\n",
              "              style=\"display:none;\">\n",
              "        \n",
              "  <svg xmlns=\"http://www.w3.org/2000/svg\" height=\"24px\"viewBox=\"0 0 24 24\"\n",
              "       width=\"24px\">\n",
              "    <path d=\"M0 0h24v24H0V0z\" fill=\"none\"/>\n",
              "    <path d=\"M18.56 5.44l.94 2.06.94-2.06 2.06-.94-2.06-.94-.94-2.06-.94 2.06-2.06.94zm-11 1L8.5 8.5l.94-2.06 2.06-.94-2.06-.94L8.5 2.5l-.94 2.06-2.06.94zm10 10l.94 2.06.94-2.06 2.06-.94-2.06-.94-.94-2.06-.94 2.06-2.06.94z\"/><path d=\"M17.41 7.96l-1.37-1.37c-.4-.4-.92-.59-1.43-.59-.52 0-1.04.2-1.43.59L10.3 9.45l-7.72 7.72c-.78.78-.78 2.05 0 2.83L4 21.41c.39.39.9.59 1.41.59.51 0 1.02-.2 1.41-.59l7.78-7.78 2.81-2.81c.8-.78.8-2.07 0-2.86zM5.41 20L4 18.59l7.72-7.72 1.47 1.35L5.41 20z\"/>\n",
              "  </svg>\n",
              "      </button>\n",
              "      \n",
              "  <style>\n",
              "    .colab-df-container {\n",
              "      display:flex;\n",
              "      flex-wrap:wrap;\n",
              "      gap: 12px;\n",
              "    }\n",
              "\n",
              "    .colab-df-convert {\n",
              "      background-color: #E8F0FE;\n",
              "      border: none;\n",
              "      border-radius: 50%;\n",
              "      cursor: pointer;\n",
              "      display: none;\n",
              "      fill: #1967D2;\n",
              "      height: 32px;\n",
              "      padding: 0 0 0 0;\n",
              "      width: 32px;\n",
              "    }\n",
              "\n",
              "    .colab-df-convert:hover {\n",
              "      background-color: #E2EBFA;\n",
              "      box-shadow: 0px 1px 2px rgba(60, 64, 67, 0.3), 0px 1px 3px 1px rgba(60, 64, 67, 0.15);\n",
              "      fill: #174EA6;\n",
              "    }\n",
              "\n",
              "    [theme=dark] .colab-df-convert {\n",
              "      background-color: #3B4455;\n",
              "      fill: #D2E3FC;\n",
              "    }\n",
              "\n",
              "    [theme=dark] .colab-df-convert:hover {\n",
              "      background-color: #434B5C;\n",
              "      box-shadow: 0px 1px 3px 1px rgba(0, 0, 0, 0.15);\n",
              "      filter: drop-shadow(0px 1px 2px rgba(0, 0, 0, 0.3));\n",
              "      fill: #FFFFFF;\n",
              "    }\n",
              "  </style>\n",
              "\n",
              "      <script>\n",
              "        const buttonEl =\n",
              "          document.querySelector('#df-e84b09a8-452c-4e9b-b569-0a4ad39b9b8b button.colab-df-convert');\n",
              "        buttonEl.style.display =\n",
              "          google.colab.kernel.accessAllowed ? 'block' : 'none';\n",
              "\n",
              "        async function convertToInteractive(key) {\n",
              "          const element = document.querySelector('#df-e84b09a8-452c-4e9b-b569-0a4ad39b9b8b');\n",
              "          const dataTable =\n",
              "            await google.colab.kernel.invokeFunction('convertToInteractive',\n",
              "                                                     [key], {});\n",
              "          if (!dataTable) return;\n",
              "\n",
              "          const docLinkHtml = 'Like what you see? Visit the ' +\n",
              "            '<a target=\"_blank\" href=https://colab.research.google.com/notebooks/data_table.ipynb>data table notebook</a>'\n",
              "            + ' to learn more about interactive tables.';\n",
              "          element.innerHTML = '';\n",
              "          dataTable['output_type'] = 'display_data';\n",
              "          await google.colab.output.renderOutput(dataTable, element);\n",
              "          const docLink = document.createElement('div');\n",
              "          docLink.innerHTML = docLinkHtml;\n",
              "          element.appendChild(docLink);\n",
              "        }\n",
              "      </script>\n",
              "    </div>\n",
              "  </div>\n",
              "  "
            ],
            "text/plain": [
              "         step      type     amount  ...  oldbalanceDest  newbalanceDest  isFraud\n",
              "9           1     DEBIT    5337.77  ...        41898.00        40348.79      0.0\n",
              "10          1     DEBIT    9644.94  ...        10845.00       157982.12      0.0\n",
              "15          1  CASH_OUT  229133.94  ...         5083.00        51513.44      0.0\n",
              "21          1     DEBIT    9302.79  ...        29832.00        16896.70      0.0\n",
              "41          1     DEBIT    5758.59  ...       209699.00        16997.22      0.0\n",
              "...       ...       ...        ...  ...             ...             ...      ...\n",
              "2048509   181  CASH_OUT  110644.85  ...            0.00       110644.85      0.0\n",
              "2048510   181  CASH_OUT    5653.42  ...            0.00         5653.42      0.0\n",
              "2048512   181  CASH_OUT   79624.84  ...            0.00        79624.84      0.0\n",
              "2048515   181  CASH_OUT  315365.20  ...       486353.03       801718.23      0.0\n",
              "2048517   181  CASH_OUT   64293.34  ...       237357.95       301651.29      0.0\n",
              "\n",
              "[752084 rows x 8 columns]"
            ]
          },
          "metadata": {},
          "execution_count": 89
        }
      ]
    },
    {
      "cell_type": "markdown",
      "source": [
        "newbalanceDest box plot after removal of outliers"
      ],
      "metadata": {
        "id": "iLTZdSBf5xNo"
      }
    },
    {
      "cell_type": "code",
      "source": [
        "sns.boxplot(x=df['newbalanceDest'])"
      ],
      "metadata": {
        "colab": {
          "base_uri": "https://localhost:8080/",
          "height": 297
        },
        "id": "bEoOqigZ5iNQ",
        "outputId": "829f66e8-2b16-40ac-ca42-aa12b1713544"
      },
      "execution_count": null,
      "outputs": [
        {
          "output_type": "execute_result",
          "data": {
            "text/plain": [
              "<matplotlib.axes._subplots.AxesSubplot at 0x7f943fe5e190>"
            ]
          },
          "metadata": {},
          "execution_count": 20
        },
        {
          "output_type": "display_data",
          "data": {
            "image/png": "[encoded data removed]",
            "text/plain": [
              "<Figure size 432x288 with 1 Axes>"
            ]
          },
          "metadata": {
            "needs_background": "light"
          }
        }
      ]
    },
    {
      "cell_type": "markdown",
      "source": [
        "Thus, the box-plot does not show any outliers in data after outlier removal"
      ],
      "metadata": {
        "id": "iIeUiSZu8449"
      }
    },
    {
      "cell_type": "markdown",
      "source": [
        "Removing outliers from all columns('amount','oldbalanceOrg','oldbalanceDest','newbalanceDest') in dataframe df1"
      ],
      "metadata": {
        "id": "R8QQ6vYV75rw"
      }
    },
    {
      "cell_type": "markdown",
      "source": [
        "Correlation plot of dependent and independent variables"
      ],
      "metadata": {
        "id": "6LZBCjUO73lk"
      }
    },
    {
      "cell_type": "code",
      "source": [
        "plt.figure(figsize=(16, 6))\n",
        "heatmap = sns.heatmap(df.corr(), vmin=-1, vmax=1, annot=True, cmap='BrBG')\n",
        "heatmap.set_title('Correlation Heatmap', fontdict={'fontsize':18}, pad=12);"
      ],
      "metadata": {
        "colab": {
          "base_uri": "https://localhost:8080/",
          "height": 400
        },
        "id": "6yrHTDwA9h7p",
        "outputId": "5be93691-8074-4553-b667-917913fccac8"
      },
      "execution_count": null,
      "outputs": [
        {
          "output_type": "display_data",
          "data": {
            "image/png": "[encoded data removed]",
            "text/plain": [
              "<Figure size 1152x432 with 2 Axes>"
            ]
          },
          "metadata": {
            "needs_background": "light"
          }
        }
      ]
    },
    {
      "cell_type": "code",
      "source": [
        "import seaborn as sns\n",
        "sns.countplot(x=\"isFraud\",data=df1)\n",
        "plt.title(\"counting the no of fraud data in dataset\")\n",
        "plt.rcParams['figure.figsize'] = (4,4)\n",
        "plt.show()"
      ],
      "metadata": {
        "id": "5z25nvdll3bQ",
        "colab": {
          "base_uri": "https://localhost:8080/",
          "height": 295
        },
        "outputId": "71667552-6832-482a-b4f5-8b0c04f66176"
      },
      "execution_count": null,
      "outputs": [
        {
          "output_type": "display_data",
          "data": {
            "image/png": "[encoded data removed]",
            "text/plain": [
              "<Figure size 432x288 with 1 Axes>"
            ]
          },
          "metadata": {
            "needs_background": "light"
          }
        }
      ]
    },
    {
      "cell_type": "markdown",
      "source": [
        "The plot above show shows that the count of fraud transaction in the dataset is way less then total number of valid transactions. This in itself suggests the high imbalance in the dataset. In order to perform model deployment the dataset has to be balanced. It can be accomplished using upsampling."
      ],
      "metadata": {
        "id": "OcNgWtePJCl5"
      }
    },
    {
      "cell_type": "code",
      "source": [
        "# counting shape of fraud and not_fraud dataset\n",
        "fraud=df1[df1['isFraud']==1]\n",
        "not_fraud=df1[df1['isFraud']==0]\n",
        "print(fraud.shape, not_fraud.shape)"
      ],
      "metadata": {
        "id": "a2wXEzl9Jmlw",
        "colab": {
          "base_uri": "https://localhost:8080/"
        },
        "outputId": "ae658a32-691b-4cb0-bd98-c7090f3e43f1"
      },
      "execution_count": null,
      "outputs": [
        {
          "output_type": "stream",
          "name": "stdout",
          "text": [
            "(2050, 8) (2046469, 8)\n"
          ]
        }
      ]
    },
    {
      "cell_type": "code",
      "source": [
        "sns.barplot(x=df1.type.unique(),y=df1.groupby(\"type\")[\"isFraud\"].sum())"
      ],
      "metadata": {
        "id": "6zITyWvnK9XV",
        "colab": {
          "base_uri": "https://localhost:8080/",
          "height": 284
        },
        "outputId": "c3d070d3-199b-4946-9255-eca9cfafbe76"
      },
      "execution_count": null,
      "outputs": [
        {
          "output_type": "execute_result",
          "data": {
            "text/plain": [
              "<matplotlib.axes._subplots.AxesSubplot at 0x7f942a114250>"
            ]
          },
          "metadata": {},
          "execution_count": 94
        },
        {
          "output_type": "display_data",
          "data": {
            "image/png": "[encoded data removed]",
            "text/plain": [
              "<Figure size 288x288 with 1 Axes>"
            ]
          },
          "metadata": {
            "needs_background": "light"
          }
        }
      ]
    },
    {
      "cell_type": "markdown",
      "source": [
        "Visualising the different columns of dataframe using histogram to get a measure of skewness of original balamce and final balance after transactions."
      ],
      "metadata": {
        "id": "VofnP38bs4HY"
      }
    },
    {
      "cell_type": "code",
      "source": [
        "plt.figure(figsize=(8,6))\n",
        "plt.hist(df1.oldbalanceOrg, bins=100, alpha=0.5, label=\"oldbalanceOrg\")\n",
        "plt.hist(df1.oldbalanceDest, bins=100, alpha=0.5, label=\"oldbalanceDest\")\n",
        "plt.hist(df1.newbalanceOrig\t, bins=100, alpha=0.5, label=\"newbalanceOrig\")\n",
        "plt.hist(df1.newbalanceDest\t, bins=100, alpha=0.5, label=\"newbalanceDest\")\n",
        "plt.xlabel(\"Data\", size=14)\n",
        "plt.ylabel(\"Account Balance\", size=14)\n",
        "plt.title(\"Multiple Histograms with Matplotlib\")\n",
        "plt.legend(loc='upper right')"
      ],
      "metadata": {
        "id": "BrAUvGsfrh8Y",
        "colab": {
          "base_uri": "https://localhost:8080/",
          "height": 427
        },
        "outputId": "e456d352-3f5e-48b7-f25f-cc0785c70966"
      },
      "execution_count": null,
      "outputs": [
        {
          "output_type": "execute_result",
          "data": {
            "text/plain": [
              "<matplotlib.legend.Legend at 0x7f943d3f5a90>"
            ]
          },
          "metadata": {},
          "execution_count": 25
        },
        {
          "output_type": "display_data",
          "data": {
            "image/png": "[encoded data removed]",
            "text/plain": [
              "<Figure size 576x432 with 1 Axes>"
            ]
          },
          "metadata": {
            "needs_background": "light"
          }
        }
      ]
    },
    {
      "cell_type": "markdown",
      "source": [
        "The above plot shows the dataset is highly imbalanced and highly skewed."
      ],
      "metadata": {
        "id": "rMymX_FNthsc"
      }
    },
    {
      "cell_type": "markdown",
      "source": [
        "Adding type of transactions as columns into dataframe using get_dummies() function of pandas library.\n",
        "\n",
        "* 1 indicates transaction has occurred and 0 indicates no transaction has occurred.\n",
        "\n",
        "\n"
      ],
      "metadata": {
        "id": "68UMCOjTu6KV"
      }
    },
    {
      "cell_type": "code",
      "source": [
        "df1 = pd.get_dummies(df1,columns=[\"type\"])\n",
        "df1.head()"
      ],
      "metadata": {
        "id": "S0pdKPplsE6h",
        "colab": {
          "base_uri": "https://localhost:8080/",
          "height": 270
        },
        "outputId": "138ab939-b3a1-43eb-f6c1-3f0f665a3e72"
      },
      "execution_count": null,
      "outputs": [
        {
          "output_type": "execute_result",
          "data": {
            "text/html": [
              "\n",
              "  <div id=\"df-96bad6e1-71ed-4ac6-8d8c-3cac1139c3ff\">\n",
              "    <div class=\"colab-df-container\">\n",
              "      <div>\n",
              "<style scoped>\n",
              "    .dataframe tbody tr th:only-of-type {\n",
              "        vertical-align: middle;\n",
              "    }\n",
              "\n",
              "    .dataframe tbody tr th {\n",
              "        vertical-align: top;\n",
              "    }\n",
              "\n",
              "    .dataframe thead th {\n",
              "        text-align: right;\n",
              "    }\n",
              "</style>\n",
              "<table border=\"1\" class=\"dataframe\">\n",
              "  <thead>\n",
              "    <tr style=\"text-align: right;\">\n",
              "      <th></th>\n",
              "      <th>step</th>\n",
              "      <th>amount</th>\n",
              "      <th>oldbalanceOrg</th>\n",
              "      <th>newbalanceOrig</th>\n",
              "      <th>oldbalanceDest</th>\n",
              "      <th>newbalanceDest</th>\n",
              "      <th>isFraud</th>\n",
              "      <th>type_CAS</th>\n",
              "      <th>type_CASH_IN</th>\n",
              "      <th>type_CASH_OUT</th>\n",
              "      <th>type_DEBIT</th>\n",
              "      <th>type_PAYMENT</th>\n",
              "      <th>type_TRANSFER</th>\n",
              "    </tr>\n",
              "  </thead>\n",
              "  <tbody>\n",
              "    <tr>\n",
              "      <th>0</th>\n",
              "      <td>1</td>\n",
              "      <td>9839.64</td>\n",
              "      <td>170136.0</td>\n",
              "      <td>160296.36</td>\n",
              "      <td>0.0</td>\n",
              "      <td>0.0</td>\n",
              "      <td>0.0</td>\n",
              "      <td>0</td>\n",
              "      <td>0</td>\n",
              "      <td>0</td>\n",
              "      <td>0</td>\n",
              "      <td>1</td>\n",
              "      <td>0</td>\n",
              "    </tr>\n",
              "    <tr>\n",
              "      <th>1</th>\n",
              "      <td>1</td>\n",
              "      <td>1864.28</td>\n",
              "      <td>21249.0</td>\n",
              "      <td>19384.72</td>\n",
              "      <td>0.0</td>\n",
              "      <td>0.0</td>\n",
              "      <td>0.0</td>\n",
              "      <td>0</td>\n",
              "      <td>0</td>\n",
              "      <td>0</td>\n",
              "      <td>0</td>\n",
              "      <td>1</td>\n",
              "      <td>0</td>\n",
              "    </tr>\n",
              "    <tr>\n",
              "      <th>2</th>\n",
              "      <td>1</td>\n",
              "      <td>181.00</td>\n",
              "      <td>181.0</td>\n",
              "      <td>0.00</td>\n",
              "      <td>0.0</td>\n",
              "      <td>0.0</td>\n",
              "      <td>1.0</td>\n",
              "      <td>0</td>\n",
              "      <td>0</td>\n",
              "      <td>0</td>\n",
              "      <td>0</td>\n",
              "      <td>0</td>\n",
              "      <td>1</td>\n",
              "    </tr>\n",
              "    <tr>\n",
              "      <th>3</th>\n",
              "      <td>1</td>\n",
              "      <td>181.00</td>\n",
              "      <td>181.0</td>\n",
              "      <td>0.00</td>\n",
              "      <td>21182.0</td>\n",
              "      <td>0.0</td>\n",
              "      <td>1.0</td>\n",
              "      <td>0</td>\n",
              "      <td>0</td>\n",
              "      <td>1</td>\n",
              "      <td>0</td>\n",
              "      <td>0</td>\n",
              "      <td>0</td>\n",
              "    </tr>\n",
              "    <tr>\n",
              "      <th>4</th>\n",
              "      <td>1</td>\n",
              "      <td>11668.14</td>\n",
              "      <td>41554.0</td>\n",
              "      <td>29885.86</td>\n",
              "      <td>0.0</td>\n",
              "      <td>0.0</td>\n",
              "      <td>0.0</td>\n",
              "      <td>0</td>\n",
              "      <td>0</td>\n",
              "      <td>0</td>\n",
              "      <td>0</td>\n",
              "      <td>1</td>\n",
              "      <td>0</td>\n",
              "    </tr>\n",
              "  </tbody>\n",
              "</table>\n",
              "</div>\n",
              "      <button class=\"colab-df-convert\" onclick=\"convertToInteractive('df-96bad6e1-71ed-4ac6-8d8c-3cac1139c3ff')\"\n",
              "              title=\"Convert this dataframe to an interactive table.\"\n",
              "              style=\"display:none;\">\n",
              "        \n",
              "  <svg xmlns=\"http://www.w3.org/2000/svg\" height=\"24px\"viewBox=\"0 0 24 24\"\n",
              "       width=\"24px\">\n",
              "    <path d=\"M0 0h24v24H0V0z\" fill=\"none\"/>\n",
              "    <path d=\"M18.56 5.44l.94 2.06.94-2.06 2.06-.94-2.06-.94-.94-2.06-.94 2.06-2.06.94zm-11 1L8.5 8.5l.94-2.06 2.06-.94-2.06-.94L8.5 2.5l-.94 2.06-2.06.94zm10 10l.94 2.06.94-2.06 2.06-.94-2.06-.94-.94-2.06-.94 2.06-2.06.94z\"/><path d=\"M17.41 7.96l-1.37-1.37c-.4-.4-.92-.59-1.43-.59-.52 0-1.04.2-1.43.59L10.3 9.45l-7.72 7.72c-.78.78-.78 2.05 0 2.83L4 21.41c.39.39.9.59 1.41.59.51 0 1.02-.2 1.41-.59l7.78-7.78 2.81-2.81c.8-.78.8-2.07 0-2.86zM5.41 20L4 18.59l7.72-7.72 1.47 1.35L5.41 20z\"/>\n",
              "  </svg>\n",
              "      </button>\n",
              "      \n",
              "  <style>\n",
              "    .colab-df-container {\n",
              "      display:flex;\n",
              "      flex-wrap:wrap;\n",
              "      gap: 12px;\n",
              "    }\n",
              "\n",
              "    .colab-df-convert {\n",
              "      background-color: #E8F0FE;\n",
              "      border: none;\n",
              "      border-radius: 50%;\n",
              "      cursor: pointer;\n",
              "      display: none;\n",
              "      fill: #1967D2;\n",
              "      height: 32px;\n",
              "      padding: 0 0 0 0;\n",
              "      width: 32px;\n",
              "    }\n",
              "\n",
              "    .colab-df-convert:hover {\n",
              "      background-color: #E2EBFA;\n",
              "      box-shadow: 0px 1px 2px rgba(60, 64, 67, 0.3), 0px 1px 3px 1px rgba(60, 64, 67, 0.15);\n",
              "      fill: #174EA6;\n",
              "    }\n",
              "\n",
              "    [theme=dark] .colab-df-convert {\n",
              "      background-color: #3B4455;\n",
              "      fill: #D2E3FC;\n",
              "    }\n",
              "\n",
              "    [theme=dark] .colab-df-convert:hover {\n",
              "      background-color: #434B5C;\n",
              "      box-shadow: 0px 1px 3px 1px rgba(0, 0, 0, 0.15);\n",
              "      filter: drop-shadow(0px 1px 2px rgba(0, 0, 0, 0.3));\n",
              "      fill: #FFFFFF;\n",
              "    }\n",
              "  </style>\n",
              "\n",
              "      <script>\n",
              "        const buttonEl =\n",
              "          document.querySelector('#df-96bad6e1-71ed-4ac6-8d8c-3cac1139c3ff button.colab-df-convert');\n",
              "        buttonEl.style.display =\n",
              "          google.colab.kernel.accessAllowed ? 'block' : 'none';\n",
              "\n",
              "        async function convertToInteractive(key) {\n",
              "          const element = document.querySelector('#df-96bad6e1-71ed-4ac6-8d8c-3cac1139c3ff');\n",
              "          const dataTable =\n",
              "            await google.colab.kernel.invokeFunction('convertToInteractive',\n",
              "                                                     [key], {});\n",
              "          if (!dataTable) return;\n",
              "\n",
              "          const docLinkHtml = 'Like what you see? Visit the ' +\n",
              "            '<a target=\"_blank\" href=https://colab.research.google.com/notebooks/data_table.ipynb>data table notebook</a>'\n",
              "            + ' to learn more about interactive tables.';\n",
              "          element.innerHTML = '';\n",
              "          dataTable['output_type'] = 'display_data';\n",
              "          await google.colab.output.renderOutput(dataTable, element);\n",
              "          const docLink = document.createElement('div');\n",
              "          docLink.innerHTML = docLinkHtml;\n",
              "          element.appendChild(docLink);\n",
              "        }\n",
              "      </script>\n",
              "    </div>\n",
              "  </div>\n",
              "  "
            ],
            "text/plain": [
              "   step    amount  oldbalanceOrg  ...  type_DEBIT  type_PAYMENT  type_TRANSFER\n",
              "0     1   9839.64       170136.0  ...           0             1              0\n",
              "1     1   1864.28        21249.0  ...           0             1              0\n",
              "2     1    181.00          181.0  ...           0             0              1\n",
              "3     1    181.00          181.0  ...           0             0              0\n",
              "4     1  11668.14        41554.0  ...           0             1              0\n",
              "\n",
              "[5 rows x 13 columns]"
            ]
          },
          "metadata": {},
          "execution_count": 26
        }
      ]
    },
    {
      "cell_type": "markdown",
      "source": [
        "# Performing Principal Component Analysis\n",
        "Now to better understand the importance of each factor we will start with PCA of our encoded dataset.\n",
        "\n",
        "NOTE: Data should be standardized as we need to maximize the variance along the axes. And our data is measured on different scales\n",
        "Let us now continue with the transformation of the data onto unit scale (mean=0 and variance=1), which is a requirement for the optimal performance of many machine learning algorithms."
      ],
      "metadata": {
        "id": "g08FEN_Ucpnn"
      }
    },
    {
      "cell_type": "code",
      "source": [
        "X = df1.drop(\"isFraud\",1)\n",
        "from sklearn.preprocessing import StandardScaler\n",
        "X_std = StandardScaler().fit_transform(X)\n",
        "import numpy as np\n",
        "print('NumPy covariance matrix: \\n%s' %np.cov(X_std.T))"
      ],
      "metadata": {
        "colab": {
          "base_uri": "https://localhost:8080/"
        },
        "id": "z35Lg4QrUKvl",
        "outputId": "e3c384e0-2a49-481f-ed69-6af42e582518"
      },
      "execution_count": null,
      "outputs": [
        {
          "output_type": "stream",
          "name": "stderr",
          "text": [
            "/usr/local/lib/python3.7/dist-packages/ipykernel_launcher.py:1: FutureWarning: In a future version of pandas all arguments of DataFrame.drop except for the argument 'labels' will be keyword-only\n",
            "  \"\"\"Entry point for launching an IPython kernel.\n"
          ]
        },
        {
          "output_type": "stream",
          "name": "stdout",
          "text": [
            "NumPy covariance matrix: \n",
            "[[ 1.00000049e+00  6.39180749e-03 -7.54531725e-03 -6.99041923e-03\n",
            "   8.08474887e-03 -1.93318825e-03  1.03329979e-03  8.35667907e-03\n",
            "  -7.15762771e-04 -3.80426947e-03 -6.55374685e-03  1.01541966e-03]\n",
            " [ 6.39180749e-03  1.00000049e+00  1.58083438e-03 -3.79673494e-03\n",
            "   2.15174511e-01  3.12267537e-01 -4.17329151e-04  1.82159960e-02\n",
            "   6.51125757e-02 -4.70588992e-02 -3.90717648e-01  5.41873571e-01]\n",
            " [-7.54531725e-03  1.58083438e-03  1.00000049e+00  9.99033367e-01\n",
            "   9.33244943e-02  6.37187648e-02 -2.05062821e-04  5.08695313e-01\n",
            "  -2.04716533e-01 -2.17610614e-02 -1.87195160e-01 -8.22178919e-02]\n",
            " [-6.99041923e-03 -3.79673494e-03  9.99033367e-01  1.00000049e+00\n",
            "   9.53068557e-02  6.34815243e-02 -2.07596109e-04  5.29291179e-01\n",
            "  -2.14965786e-01 -2.21814069e-02 -1.91474044e-01 -8.79229781e-02]\n",
            " [ 8.08474887e-03  2.15174511e-01  9.33244943e-02  9.53068557e-02\n",
            "   1.00000049e+00  9.83832122e-01 -3.03188747e-04  1.07726320e-01\n",
            "   1.30432050e-01  1.20597679e-02 -3.06390987e-01  1.32201097e-01]\n",
            " [-1.93318825e-03  3.12267537e-01  6.37187648e-02  6.34815243e-02\n",
            "   9.83832122e-01  1.00000049e+00 -3.25768733e-04  5.56374597e-02\n",
            "   1.59294632e-01  8.97149541e-03 -3.29209460e-01  2.00299379e-01]\n",
            " [ 1.03329979e-03 -4.17329151e-04 -2.05062821e-04 -2.07596109e-04\n",
            "  -3.03188747e-04 -3.25768733e-04  1.00000049e+00 -3.72422210e-04\n",
            "  -5.21434964e-04 -5.73152518e-05 -4.96585962e-04 -2.10725492e-04]\n",
            " [ 8.35667907e-03  1.82159960e-02  5.08695313e-01  5.29291179e-01\n",
            "   1.07726320e-01  5.56374597e-02 -3.72422210e-04  1.00000049e+00\n",
            "  -3.95188402e-01 -4.34384426e-02 -3.76355684e-01 -1.59705958e-01]\n",
            " [-7.15762771e-04  6.51125757e-02 -2.04716533e-01 -2.14965786e-01\n",
            "   1.30432050e-01  1.59294632e-01 -5.21434964e-04 -3.95188402e-01\n",
            "   1.00000049e+00 -6.08189366e-02 -5.26942292e-01 -2.23607154e-01]\n",
            " [-3.80426947e-03 -4.70588992e-02 -2.17610614e-02 -2.21814069e-02\n",
            "   1.20597679e-02  8.97149541e-03 -5.73152518e-05 -4.34384426e-02\n",
            "  -6.08189366e-02  1.00000049e+00 -5.79206080e-02 -2.45785212e-02]\n",
            " [-6.55374685e-03 -3.90717648e-01 -1.87195160e-01 -1.91474044e-01\n",
            "  -3.06390987e-01 -3.29209460e-01 -4.96585962e-04 -3.76355684e-01\n",
            "  -5.26942292e-01 -5.79206080e-02  1.00000049e+00 -2.12951147e-01]\n",
            " [ 1.01541966e-03  5.41873571e-01 -8.22178919e-02 -8.79229781e-02\n",
            "   1.32201097e-01  2.00299379e-01 -2.10725492e-04 -1.59705958e-01\n",
            "  -2.23607154e-01 -2.45785212e-02 -2.12951147e-01  1.00000049e+00]]\n"
          ]
        }
      ]
    },
    {
      "cell_type": "markdown",
      "source": [
        "Next step is to get the eigen vector and values using eigen decomposition of standardized data."
      ],
      "metadata": {
        "id": "VaE19_Xbc08C"
      }
    },
    {
      "cell_type": "code",
      "source": [
        "cor_mat1 = np.corrcoef(X_std.T)\n",
        "\n",
        "eig_vals, eig_vecs = np.linalg.eig(cor_mat1)\n",
        "\n",
        "print('Eigenvectors \\n%s' %eig_vecs)\n",
        "print('\\nEigenvalues \\n%s' %eig_vals)"
      ],
      "metadata": {
        "colab": {
          "base_uri": "https://localhost:8080/"
        },
        "id": "HYDhryaxUcn-",
        "outputId": "b836491a-78d4-4f38-82ee-88a8082d462d"
      },
      "execution_count": null,
      "outputs": [
        {
          "output_type": "stream",
          "name": "stdout",
          "text": [
            "Eigenvectors \n",
            "[[-2.04787319e-03 -5.99757699e-03 -5.00785717e-03  3.09309027e-03\n",
            "  -9.78604251e-03 -5.47908811e-02 -2.34865117e-01  6.65233258e-01\n",
            "  -7.06454265e-01  7.26911862e-03 -5.42114103e-05  2.49675169e-16]\n",
            " [-2.44561299e-01 -3.03202779e-01 -4.13273988e-01 -7.49910654e-01\n",
            "  -3.30316458e-01 -3.63953425e-02  1.38002939e-03 -4.16811153e-03\n",
            "   5.24537953e-03 -6.79067835e-02 -2.18197861e-03 -6.11664456e-15]\n",
            " [-4.14673870e-01  4.05627860e-01  3.06234966e-02 -1.74211269e-03\n",
            "  -6.37423479e-02 -4.06381234e-01 -1.66201178e-02 -1.73620695e-02\n",
            "   1.92909104e-02  2.27080679e-02  7.01353354e-01  3.36232814e-13]\n",
            " [-4.17501166e-01  4.10525978e-01  3.11497355e-02  2.14086800e-03\n",
            "  -6.01151223e-02 -3.80096659e-01 -1.59989589e-02 -1.60545473e-02\n",
            "   1.78596317e-02 -2.15618207e-02 -7.11899864e-01 -3.43318155e-13]\n",
            " [-3.92612628e-01 -3.26381242e-01  1.37671479e-01  3.44788930e-02\n",
            "   4.80919012e-01  1.34511217e-02 -6.14768574e-02 -3.94322926e-03\n",
            "   4.94854424e-03 -6.95251490e-01  2.30276825e-02 -2.03063774e-14]\n",
            " [-3.91266872e-01 -3.69743903e-01  9.23777711e-02 -2.72332941e-02\n",
            "   4.31642030e-01 -2.55235986e-02 -5.71348987e-02 -1.24860387e-02\n",
            "   1.40856005e-02  7.14031528e-01 -2.23238422e-02  2.19489621e-14]\n",
            " [ 2.78082912e-04  1.25259989e-04  4.92317656e-05 -6.13744234e-04\n",
            "  -6.03931868e-04 -6.33370799e-04 -1.54687032e-02 -7.30527449e-01\n",
            "  -6.82706695e-01 -1.48760647e-05 -5.91238398e-06  8.34228257e-04]\n",
            " [-3.58826807e-01  3.24811608e-01 -1.53250788e-02 -2.43299196e-02\n",
            "  -4.39372637e-02  7.18680704e-01  1.75910342e-02  3.07786484e-02\n",
            "  -3.34250338e-02  2.79249480e-02  1.42200712e-02  4.93077566e-01]\n",
            " [ 8.83906661e-03 -3.34850072e-01  5.81105165e-01  3.24383212e-03\n",
            "  -4.03685525e-01 -2.44029599e-01 -4.31824640e-02 -1.75061378e-02\n",
            "   2.09721565e-02 -1.26652817e-02 -6.18731444e-03  5.69895958e-01]\n",
            " [ 1.02048738e-02 -7.32414258e-03  3.18020960e-02 -6.86631940e-02\n",
            "   1.24764459e-01 -8.95869087e-02  9.53543788e-01  1.44579797e-01\n",
            "  -1.76154591e-01 -1.27980580e-03 -7.97229601e-04  9.66562935e-02]\n",
            " [ 3.77184713e-01  2.10332497e-01 -2.03425262e-01 -3.08493251e-01\n",
            "   5.13141924e-01 -2.68334979e-01 -1.56158091e-01 -2.89912150e-02\n",
            "   3.54960872e-02 -3.48794725e-03 -4.64473868e-03  5.61341396e-01]\n",
            " [-1.24427340e-01 -2.64217192e-01 -6.47667396e-01  5.78965297e-01\n",
            "  -1.47467832e-01 -1.70702953e-01  3.48700587e-02 -6.98194369e-03\n",
            "   6.70461990e-03 -1.36230067e-02 -2.44175699e-03  3.28094215e-01]]\n",
            "\n",
            "Eigenvalues \n",
            "[2.74590687e+00 2.41007282e+00 1.42838968e+00 4.18353616e-01\n",
            " 1.22712961e+00 7.48961212e-01 1.01084575e+00 9.99032853e-01\n",
            " 1.00110348e+00 9.55758018e-03 6.46531336e-04 2.69114721e-15]\n"
          ]
        }
      ]
    },
    {
      "cell_type": "code",
      "source": [
        "for ev in eig_vecs.T:\n",
        "    np.testing.assert_array_almost_equal(1.0, np.linalg.norm(ev))\n",
        "print('Everything is good!')"
      ],
      "metadata": {
        "colab": {
          "base_uri": "https://localhost:8080/"
        },
        "id": "GKB69TcIUg14",
        "outputId": "9f5bc7f1-d661-4d04-86f6-898a8b13d435"
      },
      "execution_count": null,
      "outputs": [
        {
          "output_type": "stream",
          "name": "stdout",
          "text": [
            "Everything is good!\n"
          ]
        }
      ]
    },
    {
      "cell_type": "markdown",
      "source": [
        "The eigenvectors with the lowest eigenvalues bear the least information about the distribution of the data; those are the ones can be dropped.\n",
        "To do so we have ranked the eigenvalues from highest to lowest so that we can choose the top k eigenvectors."
      ],
      "metadata": {
        "id": "HjYF-fC_c5LC"
      }
    },
    {
      "cell_type": "code",
      "source": [
        "# Make a list of (eigenvalue, eigenvector) tuples\n",
        "eig_pairs = [(np.abs(eig_vals[i]), eig_vecs[:,i]) for i in range(len(eig_vals))]\n",
        "\n",
        "# Sort the (eigenvalue, eigenvector) tuples from high to low\n",
        "eig_pairs.sort(key=lambda x: x[0], reverse=True)\n",
        "\n",
        "# Visually confirm that the list is correctly sorted by decreasing eigenvalues\n",
        "print('Eigenvalues in descending order:')\n",
        "for i in eig_pairs:\n",
        "    print(i[0])"
      ],
      "metadata": {
        "colab": {
          "base_uri": "https://localhost:8080/"
        },
        "id": "gSjbvtDEUkoW",
        "outputId": "511fa9fe-5533-4aed-b123-cf2ed3e19bb6"
      },
      "execution_count": null,
      "outputs": [
        {
          "output_type": "stream",
          "name": "stdout",
          "text": [
            "Eigenvalues in descending order:\n",
            "2.745906869828694\n",
            "2.4100728166935794\n",
            "1.4283896796820035\n",
            "1.2271296131733318\n",
            "1.0108457518281107\n",
            "1.001103476638545\n",
            "0.9990328525945237\n",
            "0.7489612122346391\n",
            "0.41835361581259906\n",
            "0.009557580177835118\n",
            "0.0006465313361286623\n",
            "2.6911472146458978e-15\n"
          ]
        }
      ]
    },
    {
      "cell_type": "code",
      "source": [
        "tot = sum(eig_vals)\n",
        "var_exp = [(i / tot)*100 for i in sorted(eig_vals, reverse=True)]\n",
        "cum_var_exp = np.cumsum(var_exp)\n",
        "var_exp"
      ],
      "metadata": {
        "colab": {
          "base_uri": "https://localhost:8080/"
        },
        "id": "2V0x5KxUUrDI",
        "outputId": "e61203ef-45fd-4663-9f30-262c4577811b"
      },
      "execution_count": null,
      "outputs": [
        {
          "output_type": "execute_result",
          "data": {
            "text/plain": [
              "[22.882557248572468,\n",
              " 20.083940139113174,\n",
              " 11.903247330683369,\n",
              " 10.226080109777772,\n",
              " 8.423714598567594,\n",
              " 8.34252897198788,\n",
              " 8.325273771621037,\n",
              " 6.2413434352886625,\n",
              " 3.486280131771661,\n",
              " 0.07964650148195936,\n",
              " 0.005387761134405523,\n",
              " 2.242622678871583e-14]"
            ]
          },
          "metadata": {},
          "execution_count": 33
        }
      ]
    },
    {
      "cell_type": "code",
      "source": [
        "cum_var_exp"
      ],
      "metadata": {
        "colab": {
          "base_uri": "https://localhost:8080/"
        },
        "id": "P_mIL3qvUw5I",
        "outputId": "27ec27f0-195b-44fc-ba5e-3046baeed80a"
      },
      "execution_count": null,
      "outputs": [
        {
          "output_type": "execute_result",
          "data": {
            "text/plain": [
              "array([ 22.88255725,  42.96649739,  54.86974472,  65.09582483,\n",
              "        73.51953943,  81.8620684 ,  90.18734217,  96.42868561,\n",
              "        99.91496574,  99.99461224, 100.        , 100.        ])"
            ]
          },
          "metadata": {},
          "execution_count": 34
        }
      ]
    },
    {
      "cell_type": "code",
      "source": [
        "with plt.style.context('seaborn-whitegrid'):\n",
        "    plt.figure(figsize=(6, 4))\n",
        "\n",
        "    plt.bar(range(12), var_exp, alpha=0.5, align='center',\n",
        "            label='individual explained variance')\n",
        "    plt.step(range(12), cum_var_exp, where='mid',\n",
        "             label='cumulative explained variance')\n",
        "    plt.ylabel('Explained variance ratio')\n",
        "    plt.xlabel('Principal components')\n",
        "    plt.legend(loc='best')\n",
        "    plt.tight_layout()"
      ],
      "metadata": {
        "colab": {
          "base_uri": "https://localhost:8080/",
          "height": 297
        },
        "id": "t_2f6TDIUz9l",
        "outputId": "837887ca-f05c-4958-d231-7488e6a7a0a2"
      },
      "execution_count": null,
      "outputs": [
        {
          "output_type": "display_data",
          "data": {
            "image/png": "[encoded data removed]",
            "text/plain": [
              "<Figure size 432x288 with 1 Axes>"
            ]
          },
          "metadata": {}
        }
      ]
    },
    {
      "cell_type": "markdown",
      "source": [
        "The plot above clearly shows that most of the variance (22.88% of the variance to be precise) can be explained by the first principal component alone. The second principal component still bears some information (20%) while the next principal components are nearly at much low level. We can drop the last principal components, so as we use 99.91% of information to train our model."
      ],
      "metadata": {
        "id": "R5qNud0acFcO"
      }
    },
    {
      "cell_type": "markdown",
      "source": [
        "# Data Normalzation using StandardScaler "
      ],
      "metadata": {
        "id": "FEgohnfVjkhp"
      }
    },
    {
      "cell_type": "markdown",
      "source": [
        "Split dataset into dependent and independent features using train_test_split method form sklearn library. The dataset been normalized using Standard Scaler Function. "
      ],
      "metadata": {
        "id": "xXOI0yR5Mic4"
      }
    },
    {
      "cell_type": "code",
      "source": [
        "from random import seed,sample\n",
        "from sklearn.model_selection import train_test_split\n",
        "from sklearn.preprocessing import StandardScaler\n",
        "\n",
        "seed(21)\n",
        "X = df1.drop(\"isFraud\",1)\n",
        "Y = df1.isFraud\n",
        "X_train, X_test, y_train, y_test = train_test_split(X, Y, test_size = 0.2, random_state = 42)\n",
        "\n",
        "# Standard Scaler normalization of data to adjust values between range of 0 to 1\n",
        "sc=StandardScaler()\n",
        "sc.fit(X_train)\n",
        "\n",
        "# Fit train and test dataset to scaler function \n",
        "X_train = sc.transform(X_train)\n",
        "X_test = sc.transform(X_test)"
      ],
      "metadata": {
        "id": "MOjIca2bQwog",
        "colab": {
          "base_uri": "https://localhost:8080/"
        },
        "outputId": "5b01a60e-bf84-4928-f8e0-29afff27ecbe"
      },
      "execution_count": null,
      "outputs": [
        {
          "output_type": "stream",
          "name": "stderr",
          "text": [
            "/usr/local/lib/python3.7/dist-packages/ipykernel_launcher.py:6: FutureWarning: In a future version of pandas all arguments of DataFrame.drop except for the argument 'labels' will be keyword-only\n",
            "  \n"
          ]
        }
      ]
    },
    {
      "cell_type": "markdown",
      "source": [
        "# Upsampling of dependent and independent variables"
      ],
      "metadata": {
        "id": "IbEDlvBvj2tq"
      }
    },
    {
      "cell_type": "markdown",
      "source": [
        "Upsampling of dependent and independent dataset. Upsampling is done in order to add datapoints to dataset having very low count of data in order to provide equalization in dataset such that the model does not incline towards dataset having higher number of data points. \n",
        "For this purpose SMOTE (Synthetic Minority Oversampling) has been used to upscale fraud dataset. Also, this process does not affect the boudary line between target and feature classes and hence provide a normalized dataset for model deployment.\n",
        "SMOTE is a hybrid method which used undersampling with oversampling method."
      ],
      "metadata": {
        "id": "7s1rBIvRRk8w"
      }
    },
    {
      "cell_type": "code",
      "source": [
        "#importing SMOTETomek for upsampling fraud dataset\n",
        "from imblearn.combine import SMOTETomek\n",
        "\n",
        "#implementing oversampling for handling imbalanced data\n",
        "df_upsample = SMOTETomek(random_state=42)\n",
        "X_new , Y_new = df_upsample.fit_resample(X,Y)"
      ],
      "metadata": {
        "id": "IJGfniekt5fy"
      },
      "execution_count": null,
      "outputs": []
    },
    {
      "cell_type": "markdown",
      "source": [
        "Print shape of X_new and Y_new dataset after reshaping"
      ],
      "metadata": {
        "id": "x6OCd1SyikFZ"
      }
    },
    {
      "cell_type": "code",
      "source": [
        "print(X_new.shape,Y_new.shape)"
      ],
      "metadata": {
        "id": "lt_sjXaWiwKB",
        "colab": {
          "base_uri": "https://localhost:8080/"
        },
        "outputId": "71efc646-705a-4ba1-e183-00955e26a5ea"
      },
      "execution_count": null,
      "outputs": [
        {
          "output_type": "stream",
          "name": "stdout",
          "text": [
            "(4065328, 12) (4065328,)\n"
          ]
        }
      ]
    },
    {
      "cell_type": "code",
      "source": [
        "Y_new.ravel()"
      ],
      "metadata": {
        "colab": {
          "base_uri": "https://localhost:8080/"
        },
        "id": "r_tbO1SYata_",
        "outputId": "b3cf87cd-78d8-45f8-f7a1-d2d64941bab5"
      },
      "execution_count": null,
      "outputs": [
        {
          "output_type": "execute_result",
          "data": {
            "text/plain": [
              "array([0., 0., 1., ..., 1., 1., 1.])"
            ]
          },
          "metadata": {},
          "execution_count": 62
        }
      ]
    },
    {
      "cell_type": "markdown",
      "source": [
        "Thus both the train and test dataset have been equalized as they have equal number of data points."
      ],
      "metadata": {
        "id": "kJOGxNL8wixW"
      }
    },
    {
      "cell_type": "markdown",
      "source": [
        "\n",
        "\n",
        "\n",
        "#Classification model using Logistic Classifier"
      ],
      "metadata": {
        "id": "RIMBvL0szl5C"
      }
    },
    {
      "cell_type": "markdown",
      "source": [
        "Importing Logistic Regression Model from sklearn library to perform logistic regression on the reshaped train and test data."
      ],
      "metadata": {
        "id": "ZyFmy2-Hw9dl"
      }
    },
    {
      "cell_type": "code",
      "source": [
        "from sklearn.model_selection import train_test_split\n",
        "from sklearn.linear_model import LogisticRegression"
      ],
      "metadata": {
        "id": "QLkjYzKFzn3d"
      },
      "execution_count": null,
      "outputs": []
    },
    {
      "cell_type": "markdown",
      "source": [
        "Split reshaped train and test data into dependent and independent variable dataset to perform regression"
      ],
      "metadata": {
        "id": "86enyULJxaSm"
      }
    },
    {
      "cell_type": "code",
      "source": [
        "X1,X2,y1,y2 = train_test_split(X_new,Y_new.ravel(),test_size=0.75,random_state=1234,stratify = Y_new.ravel())\n",
        "X_train,X_test,y_train,y_test = train_test_split(X1,y1,test_size=0.75,random_state=1234,stratify = y1)\n",
        "print(X_train.shape)\n",
        "print(X_test.shape)\n",
        "print(y_train.shape)\n",
        "print(y_test.shape)"
      ],
      "metadata": {
        "id": "nLdaxjuJ0vdQ",
        "colab": {
          "base_uri": "https://localhost:8080/"
        },
        "outputId": "eb5fecaf-99f0-4558-de58-f0ace90c62c1"
      },
      "execution_count": null,
      "outputs": [
        {
          "output_type": "stream",
          "name": "stdout",
          "text": [
            "(254083, 12)\n",
            "(762249, 12)\n",
            "(254083,)\n",
            "(762249,)\n"
          ]
        }
      ]
    },
    {
      "cell_type": "markdown",
      "source": [
        "Fit the model to train data"
      ],
      "metadata": {
        "id": "ZEnbFoupxZDx"
      }
    },
    {
      "cell_type": "code",
      "source": [
        "lr = LogisticRegression(solver='liblinear', C=0.05, multi_class='ovr',random_state=0)\n",
        "lr.fit(X_train, y_train)"
      ],
      "metadata": {
        "id": "_ztvfoj3Favo",
        "colab": {
          "base_uri": "https://localhost:8080/"
        },
        "outputId": "cc7d2d05-debe-4b65-d865-6fdcc9e3b86f"
      },
      "execution_count": null,
      "outputs": [
        {
          "output_type": "execute_result",
          "data": {
            "text/plain": [
              "LogisticRegression(C=0.05, multi_class='ovr', random_state=0,\n",
              "                   solver='liblinear')"
            ]
          },
          "metadata": {},
          "execution_count": 64
        }
      ]
    },
    {
      "cell_type": "code",
      "source": [
        "y_pred = lr.predict(X_test)\n",
        "y_pred"
      ],
      "metadata": {
        "id": "DWyjZYMoFufz",
        "colab": {
          "base_uri": "https://localhost:8080/"
        },
        "outputId": "7787c338-45c4-44cd-b2f2-0b54254c6761"
      },
      "execution_count": null,
      "outputs": [
        {
          "output_type": "execute_result",
          "data": {
            "text/plain": [
              "array([1., 1., 1., ..., 0., 1., 1.])"
            ]
          },
          "metadata": {},
          "execution_count": 65
        }
      ]
    },
    {
      "cell_type": "markdown",
      "source": [
        "Calculating model score for train data"
      ],
      "metadata": {
        "id": "IaEHGyCXfp0u"
      }
    },
    {
      "cell_type": "code",
      "source": [
        "lr.score(X_train, y_train)"
      ],
      "metadata": {
        "id": "sFXNMnIrH57Y",
        "colab": {
          "base_uri": "https://localhost:8080/"
        },
        "outputId": "2875618d-feeb-4e0a-d05b-c1f3ed0b14ba"
      },
      "execution_count": null,
      "outputs": [
        {
          "output_type": "execute_result",
          "data": {
            "text/plain": [
              "0.9431130772227972"
            ]
          },
          "metadata": {},
          "execution_count": 66
        }
      ]
    },
    {
      "cell_type": "markdown",
      "source": [
        "The model accuracy score for the test data is similar to model score of train dataset. This shows that the logistic regression model has been deployed correctly."
      ],
      "metadata": {
        "id": "vemgwRhCfAnj"
      }
    },
    {
      "cell_type": "code",
      "source": [
        " lr.score(X_test, y_test)"
      ],
      "metadata": {
        "id": "-9LWEeININBt",
        "colab": {
          "base_uri": "https://localhost:8080/"
        },
        "outputId": "3602b97b-f550-44c7-a64c-2d49a8a1483e"
      },
      "execution_count": null,
      "outputs": [
        {
          "output_type": "execute_result",
          "data": {
            "text/plain": [
              "0.9431760487714644"
            ]
          },
          "metadata": {},
          "execution_count": 67
        }
      ]
    },
    {
      "cell_type": "code",
      "source": [
        "from sklearn.metrics import classification_report, confusion_matrix\n",
        "confusion_matrix(y_test, y_pred)"
      ],
      "metadata": {
        "id": "PqDTZiCHIZjm",
        "colab": {
          "base_uri": "https://localhost:8080/"
        },
        "outputId": "861a6728-6159-443b-9548-8433ab39320c"
      },
      "execution_count": null,
      "outputs": [
        {
          "output_type": "execute_result",
          "data": {
            "text/plain": [
              "array([[345505,  35619],\n",
              "       [  7695, 373430]])"
            ]
          },
          "metadata": {},
          "execution_count": 68
        }
      ]
    },
    {
      "cell_type": "markdown",
      "source": [
        "The below code shows classification report of the prediction made by logistic regression model. The report shows values of precision, recall, f1-score, weighted average and accuracy score on the predictions made on test data. This shows that the model has been able to perfectly classify all the test data poitns and it will also clearly predict any unknown data point fed to it."
      ],
      "metadata": {
        "id": "4ev8RaClsM18"
      }
    },
    {
      "cell_type": "code",
      "source": [
        "from sklearn.metrics import classification_report\n",
        "print(classification_report(y_test,y_pred))"
      ],
      "metadata": {
        "id": "gIG_9CLrnx8s",
        "colab": {
          "base_uri": "https://localhost:8080/"
        },
        "outputId": "2da784dd-96e8-4407-cfe4-8bf968e7eefa"
      },
      "execution_count": null,
      "outputs": [
        {
          "output_type": "stream",
          "name": "stdout",
          "text": [
            "              precision    recall  f1-score   support\n",
            "\n",
            "         0.0       0.98      0.91      0.94    381124\n",
            "         1.0       0.91      0.98      0.95    381125\n",
            "\n",
            "    accuracy                           0.94    762249\n",
            "   macro avg       0.95      0.94      0.94    762249\n",
            "weighted avg       0.95      0.94      0.94    762249\n",
            "\n"
          ]
        }
      ]
    },
    {
      "cell_type": "code",
      "source": [
        "import seaborn as sns\n",
        "plt.figure(figsize=(5, 7))\n",
        "\n",
        "\n",
        "ax = sns.distplot(y_test, hist=False, color=\"r\", label=\"Actual Value\")\n",
        "sns.distplot(y_pred, hist=False, color=\"g\", label=\"Fitted Values\" , ax=ax)\n",
        "\n",
        "\n",
        "plt.title('Actual vs Fitted Values for Price')\n",
        "\n",
        "\n",
        "plt.show()\n",
        "plt.close()"
      ],
      "metadata": {
        "id": "iPw7d5sFnWKE",
        "colab": {
          "base_uri": "https://localhost:8080/",
          "height": 537
        },
        "outputId": "0c4726b8-9a49-4ba4-9fa3-586ce541915d"
      },
      "execution_count": null,
      "outputs": [
        {
          "output_type": "stream",
          "name": "stderr",
          "text": [
            "/usr/local/lib/python3.7/dist-packages/seaborn/distributions.py:2619: FutureWarning: `distplot` is a deprecated function and will be removed in a future version. Please adapt your code to use either `displot` (a figure-level function with similar flexibility) or `kdeplot` (an axes-level function for kernel density plots).\n",
            "  warnings.warn(msg, FutureWarning)\n",
            "/usr/local/lib/python3.7/dist-packages/seaborn/distributions.py:2619: FutureWarning: `distplot` is a deprecated function and will be removed in a future version. Please adapt your code to use either `displot` (a figure-level function with similar flexibility) or `kdeplot` (an axes-level function for kernel density plots).\n",
            "  warnings.warn(msg, FutureWarning)\n"
          ]
        },
        {
          "output_type": "display_data",
          "data": {
            "image/png": "[encoded data removed]",
            "text/plain": [
              "<Figure size 360x504 with 1 Axes>"
            ]
          },
          "metadata": {
            "needs_background": "light"
          }
        }
      ]
    },
    {
      "cell_type": "markdown",
      "source": [
        "From above graph we can see that there is not much difference between the predicted and correct value.\n",
        "Therefore, logistic regression is a suitable model for classifying"
      ],
      "metadata": {
        "id": "EvItt1PkXmkC"
      }
    },
    {
      "cell_type": "markdown",
      "source": [
        "\n",
        "\n",
        "*   Variables were selected based on their dependence and independence on one-another. ANOVA or Chi-square test can be used for this purpose.\n",
        "*   The most useful variables are used in prediction of the dependent variable in dataset.\n",
        "\n",
        "\n",
        "*   Variables are of two types dependent and independent. The categorical variables are dropped off if not needed.\n",
        "\n",
        "\n",
        "*   In this dataset variables such as nameDest, nameOrg, isfraudFlagged were dropped as they were not useful for the prediction.\n",
        "*   The reason they were termed as unuseful was they did not affect other variables in any manner. Hence thier presence or abscence did not make any changes to the data.\n",
        "\n",
        "\n",
        "*   Dependent variables are known as target variables and independent ones are known as feature variables.\n",
        "\n",
        "\n",
        "\n"
      ],
      "metadata": {
        "id": "BtAzGCA5yPGr"
      }
    },
    {
      "cell_type": "markdown",
      "source": [
        "\n",
        "\n",
        "\n",
        "# Factors predicting fraudulent customers "
      ],
      "metadata": {
        "id": "igKfPnIpnpgD"
      }
    },
    {
      "cell_type": "markdown",
      "source": [
        "\n",
        "\n",
        "*  The difference between original transaction and new transaction should be same as balance reflected in newbalanceDest.\n",
        "*  The isFraud data value is uniform throughout day while transactions occurred are not.\n",
        "\n",
        "*  Ratio of fraud compared to non-frauds is very low which is a case of consideration.\n",
        "*  The time step of the day also playes a key role in determining fraud by drawing a comaprison between the step and transaction time occurred.\n",
        "\n",
        "\n",
        "\n"
      ],
      "metadata": {
        "id": "sreEEQbTq3Vg"
      }
    },
    {
      "cell_type": "markdown",
      "source": [
        "# Preventions to be adopted by company "
      ],
      "metadata": {
        "id": "lRn0hXE8ukON"
      }
    },
    {
      "cell_type": "markdown",
      "source": [
        "\n",
        "\n",
        "*   The company should deploy a fingerprint or password system to validate transactions.\n",
        "\n",
        "\n",
        "*   Machine learning models should be deployed to note the apttern of customer behaviour in terms of account activity.\n",
        "*   Also, hyperparameter tuning and cross-validation should be done to make system fraud-proof.\n",
        "\n",
        "\n",
        "*   UserID should be linked with the bank account and the customer should be notified in case of any happenings witht he account.\n",
        "\n",
        "\n",
        "\n",
        "*   The step between deposit and cash-out should be maintained and highlighted if the time period between deposit and cash-out is short.\n",
        "\n",
        "\n",
        "\n"
      ],
      "metadata": {
        "id": "b8dUvoCMu0Kg"
      }
    },
    {
      "cell_type": "markdown",
      "source": [
        "# Proof-checking of implemented actions"
      ],
      "metadata": {
        "id": "v6ktwJ3Zv1-L"
      }
    },
    {
      "cell_type": "markdown",
      "source": [
        "\n",
        "\n",
        "*   There should be regular monitoring of the infrastructure adopted by the company.\n",
        "*   Account transaction details should be sent to users on a regular period to the company. \n",
        "\n",
        "\n",
        "*   There should be a threshold value set for each account-holder and any transaction above that should be nullified.\n",
        "*   Transaction IDs should be identified with those of the actual issued ones.\n",
        "\n",
        "\n",
        "*   No two transaction IDs should match\n",
        "*   Any activity related to account takeover should be recorded and user authentication should be done.\n",
        "\n",
        "\n",
        "\n",
        "\n",
        "\n",
        "\n"
      ],
      "metadata": {
        "id": "dDcPFmIrwE-Y"
      }
    },
    {
      "cell_type": "code",
      "source": [
        ""
      ],
      "metadata": {
        "id": "xC_wPgYxx4BC"
      },
      "execution_count": null,
      "outputs": []
    }
  ],
  "metadata": {
    "colab": {
      "name": "AditiSingh_ INSAID_Internship-task.ipynb",
      "provenance": [],
      "collapsed_sections": []
    },
    "kernelspec": {
      "display_name": "Python 3",
      "name": "python3"
    },
    "language_info": {
      "name": "python"
    },
    "accelerator": "GPU"
  },
  "nbformat": 4,
  "nbformat_minor": 0
}